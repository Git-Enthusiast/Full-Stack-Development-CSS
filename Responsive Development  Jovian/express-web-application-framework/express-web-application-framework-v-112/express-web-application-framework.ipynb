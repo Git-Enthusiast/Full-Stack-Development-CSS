{
 "cells": [
  {
   "cell_type": "markdown",
   "metadata": {},
   "source": [
    "# Express Web Application Framework\n",
    "\n",
    "![](https://i.imgur.com/lX7MnsY.png)"
   ]
  },
  {
   "cell_type": "markdown",
   "metadata": {},
   "source": [
    "[Express.js](https://expressjs.com/) is a minimalist web application framework for Node.js, streamlining server-side application development with flexible routing, middleware support, and a vibrant ecosystem. Its simplicity, versatility, and unopinionated nature make it a common choice for creating web applications and APIs."
   ]
  },
  {
   "cell_type": "markdown",
   "metadata": {},
   "source": [
    "The following topics are covered in this tutorial: \n",
    "\n",
    "\n",
    "- Creating and running a web server using the Express web framework\n",
    "\n",
    "\n",
    "- Serving HTML pages, static files, and dynamic data using templates\n",
    "\n",
    "\n",
    "- Using route parameters to create and serve dynamic pages\n",
    "\n",
    "\n",
    "- Accepting form submissions and sending emails from the server\n",
    "\n",
    "\n",
    "The best way to learn these skills is to follow along step-by-step and type out all the code yourself.\n"
   ]
  },
  {
   "cell_type": "markdown",
   "metadata": {},
   "source": [
    "## Problem Statement & Setup"
   ]
  },
  {
   "cell_type": "markdown",
   "metadata": {},
   "source": [
    "We'll explore abovementioned topics by attempting to solve this problem statement:\n",
    "\n",
    "> **PROBLEM**: Improve the [Jovian Careers website](https://jovian-careers-bootstrap.vercel.app/) created in the [previous tutorial](https://jovian.com/aakashns/bootstrap-css-framework) as follows: \n",
    ">\n",
    ">\n",
    "> 1. The main page should only show a list/table of job openings at Jovian\n",
    ">\n",
    ">\n",
    "> 2. Clicking on a job should open a job details page with an application form\n",
    ">\n",
    ">\n",
    "> 3. Submitting the application form should trigger an email and show an acknowledgement page\n",
    ">\n",
    "\n",
    "\n",
    "Here's what the site created in the previous tutorial looks like:\n",
    "\n",
    "<a href=\"https://jovian-careers-bootstrap.vercel.app/\" target=\"_blank\"><img src=\"https://i.imgur.com/wK959Wc.png\" width=\"480\"></a>"
   ]
  },
  {
   "cell_type": "markdown",
   "metadata": {},
   "source": [
    "### Prerequisites\n",
    "\n",
    "This tutorials assumes knowledge of the following:\n",
    "\n",
    "- HTML and CSS basics\n",
    "\n",
    "\n",
    "- Responsive design with Bootstrap\n",
    "\n",
    "\n",
    "- Version control with [GitHub](https://github.com)\n",
    "\n",
    "\n",
    "- Cloud deployment with [Vercel](https://vercel.com)"
   ]
  },
  {
   "cell_type": "markdown",
   "metadata": {},
   "source": [
    "### Source Code and Result\n",
    "\n",
    "\n",
    "The code for this tutorial can be found here:\n",
    "\n",
    "\n",
    "- Starter code: https://github.com/sydney-jovian/jovian-careers-bootstrap\n",
    "\n",
    "\n",
    "- Starter site: https://jovian-careers-bootstrap.vercel.app\n",
    "\n",
    "\n",
    "- Finished code: https://github.com/sydney-jovian/jovian-careers-express\n",
    "\n",
    "\n",
    "- Finished site: https://jovian-careers-express.vercel.app"
   ]
  },
  {
   "cell_type": "markdown",
   "metadata": {},
   "source": [
    "### Creating a GitHub Repository\n",
    "\n",
    "<img src=\"https://i.imgur.com/GNtDaEa.png\" width=\"420\">\n",
    "\n",
    "Follow these steps to sign up and create a new repository on GitHub:\n",
    "\n",
    "\n",
    "1. To create a new repository, click on the \"New\" button located on the left side of the GitHub dashboard.\n",
    "\n",
    "\n",
    "3. On the \"Create a new repository\" page, enter a name for your repository, a brief description, and choose whether you want it to be public or private. \n",
    "\n",
    "\n",
    "4. Pick \"Node\" under the selection for the `.gitignore` template, and pick an appropriate license (e.g. MIT). You can also include a `README.md` file\n",
    "\n",
    "\n",
    "5. Once you've filled out the necessary information, click on the \"Create repository\" button to create your new repository.\n",
    "\n",
    "\n",
    "6. Now that you've created your repository, you'll be taken to the repository page, where you can add files, make changes to your code, and collaborate with others.\n",
    "\n",
    "\n",
    "\n"
   ]
  },
  {
   "cell_type": "markdown",
   "metadata": {},
   "source": [
    "### Development with GitHub Codespaces\n",
    "\n",
    "<img src=\"https://i.imgur.com/hjleBqj.png\" width=\"420\">\n",
    "\n",
    "We can now open up the repository in GitHub Codespaces and launch it within VS Code:\n",
    "\n",
    "\n",
    "1. Click the \"Code\" button on the repository page, and select \"Open with Codespaces\".\n",
    "\n",
    "\n",
    "2. Select the Codespace configuration that you want to use, or create a new one if necessary.\n",
    "\n",
    "\n",
    "3. Wait for the Codespace to be created, which may take a few minutes, if done for the first time.\n",
    "\n",
    "\n",
    "4. Once the Codespace is ready, click on the \"Open in Visual Studio Code\" button \n",
    "\n",
    "\n",
    "You can either work with the browser-based version of VS Code, or you can connect remotely to the codespace using your installation of VS Code. You can push your changes back to the GitHub repository using Git commands on using the VS Code's user interface."
   ]
  },
  {
   "cell_type": "markdown",
   "metadata": {},
   "source": [
    "## Building a Web Server"
   ]
  },
  {
   "cell_type": "markdown",
   "metadata": {},
   "source": [
    "<img src=\"https://i.imgur.com/wbqlpuo.png\" width=\"480\">\n",
    "\n",
    "Web servers are software applications that handle incoming requests from web clients and respond by serving them with web pages, files, or data. \n",
    "\n",
    "\n",
    "- A web server is a program that runs on a computer and listens for incoming requests from web clients (such as web browsers or mobile apps).\n",
    "\n",
    "\n",
    "- The web server responds to these requests by sending back the requested content (such as web pages, images, videos, or data).\n",
    "\n",
    "\n",
    "- To communicate with the web server, clients use the HTTP (Hypertext Transfer Protocol) protocol, which is a standard for exchanging data over the web.\n",
    "\n",
    "\n",
    "- Web servers can be configured to handle different types of content (such as HTML, CSS, JavaScript, PHP, or Python) using different programming languages or frameworks.\n",
    "\n",
    "\n",
    "- Web servers can also be used to host web applications (such as blogs, e-commerce sites, social networks, or online tools) that require server-side processing and storage.\n",
    "\n",
    "\n",
    "Unlike static websites, web servers can deliver dynamic content from a database or REST API based on the requested page URL, request headers, HTTP method, URL query parameters, etc."
   ]
  },
  {
   "cell_type": "markdown",
   "metadata": {},
   "source": [
    "### Getting Started with Express\n",
    "\n",
    "\n",
    "<img src=\"https://i.imgur.com/nEPMOXY.png\" width=\"360\">\n",
    "\n",
    "\n",
    "Follow these steps to set up a simple \"Hello World\" project using ExpressJS:"
   ]
  },
  {
   "cell_type": "markdown",
   "metadata": {},
   "source": [
    "\n",
    "\n",
    "\n",
    "1. Initialize a NodeJS project inside a project directory using the following terminal command (it creates a `package.json` file):\n",
    "\n",
    "```bash\n",
    "npm init -y\n",
    "```\n",
    "\n",
    "\n"
   ]
  },
  {
   "cell_type": "markdown",
   "metadata": {},
   "source": [
    "2. Install ExpressJS as a dependency by running the following command (it is automatically added to `package.json` and installed in the folder `node_modules`):\n",
    "\n",
    "```bash\n",
    "npm install express\n",
    "```\n"
   ]
  },
  {
   "cell_type": "markdown",
   "metadata": {},
   "source": [
    "3. Create a folder `src` and create a new file `app.js` inside it with the following content:\n",
    "\n",
    "\n",
    "```javascript\n",
    "const express = require('express');\n",
    "const app = express();\n",
    "\n",
    "app.get('/', (req, res) => {\n",
    "    res.send('Hello World!');\n",
    "});\n",
    "\n",
    "const port = process.env.PORT || 3000;\n",
    "\n",
    "app.listen(port, () => {\n",
    "    console.log(`Server running on https://localhost:${port}`);\n",
    "});\n",
    "```\n"
   ]
  },
  {
   "cell_type": "markdown",
   "metadata": {},
   "source": [
    "4. Open the `package.json` file and modify the `scripts` section to include the following line:\n",
    "\n",
    "\n",
    "```json\n",
    "\"start\": \"node src/app.js\"\n",
    "```\n"
   ]
  },
  {
   "cell_type": "markdown",
   "metadata": {},
   "source": [
    "\n",
    "\n",
    "\n",
    "\n",
    "\n",
    "\n",
    "5. Save the file and run the following command to start the server:\n",
    "\n",
    "\n",
    "```bash\n",
    "npm start\n",
    "```\n",
    "\n",
    "\n"
   ]
  },
  {
   "cell_type": "markdown",
   "metadata": {},
   "source": [
    "This will start the web server. You can Ctrl+click or Cmd+click on the server URL (e.g. https://localhost:3000 ) to access the web server in a new browser tab.\n",
    "\n",
    "<img src=\"https://i.imgur.com/CveNQ0q.png\" width=\"420\">"
   ]
  },
  {
   "cell_type": "markdown",
   "metadata": {},
   "source": [
    "> **NOTE**: The JavaScript code inside `src/app.js` is executed on the server and is never sent to the browser. Only the result of the execution i.e. the text `Hello World` is sent to the browser. Understanding which part of your project's code is executed on the server vs. client is important to avoid security vulnerabilities."
   ]
  },
  {
   "cell_type": "markdown",
   "metadata": {},
   "source": [
    "### Serving HTML Files"
   ]
  },
  {
   "cell_type": "markdown",
   "metadata": {},
   "source": [
    "We can serve an HTML file by making the following changes:"
   ]
  },
  {
   "cell_type": "markdown",
   "metadata": {},
   "source": [
    "1. Create a folder `pages` inside `src` and create a file `index.html` inside it with this content: https://gist.githubusercontent.com/sydney-jovian/3b4c96dbc8bebcb3ed538e3a21a0e482/raw/index.html"
   ]
  },
  {
   "cell_type": "markdown",
   "metadata": {},
   "source": [
    "2. Update `src/app.js` to the following code:\n",
    "\n",
    "\n",
    "```javascript\n",
    "const express = require('express');\n",
    "const path = require('path');\n",
    "\n",
    "const app = express();\n",
    "\n",
    "app.get('/', (req, res) => {\n",
    "    res.sendFile(path.join(__dirname, 'pages/index.html'));\n",
    "})\n",
    "\n",
    "const port = process.env.PORT || 3000;\n",
    "\n",
    "app.listen(port, () => {\n",
    "    console.log(`Server running on https://localhost:${port}`);\n",
    "})\n",
    "\n",
    "\n",
    "```\n"
   ]
  },
  {
   "cell_type": "markdown",
   "metadata": {},
   "source": [
    "> **EXERCISE**: Use Jobot's Code Explainer to understand what the above code does: https://jovian.com/jobot/code-explainer"
   ]
  },
  {
   "cell_type": "markdown",
   "metadata": {},
   "source": [
    "3. Stop the server by pressing Ctrl+C within the terminal and run it again using `npm start`. The head over to the browser tab showing the preview and reload the page."
   ]
  },
  {
   "cell_type": "markdown",
   "metadata": {},
   "source": [
    "The page now shows a navigation bar, hero section, and a footer:\n",
    "\n",
    "\n",
    "<img src=\"https://i.imgur.com/zJtSpOc.png\" width=\"420\">\n"
   ]
  },
  {
   "cell_type": "markdown",
   "metadata": {},
   "source": [
    "### Using Nodemon for Auto Restart\n",
    "\n",
    "To avoid having to manually restart the server each time, we can use the [`nodemon`](https://www.npmjs.com/package/nodemon) package.\n",
    "\n",
    "\n"
   ]
  },
  {
   "cell_type": "markdown",
   "metadata": {},
   "source": [
    "1. Install the `nodemon` package:\n",
    "\n",
    "\n",
    "```\n",
    "npm install nodemon\n",
    "```\n",
    "\n",
    "\n"
   ]
  },
  {
   "cell_type": "markdown",
   "metadata": {},
   "source": [
    "2. Add this line in the \"scripts\" section of `package.json`:\n",
    "\n",
    "\n",
    "```\n",
    "\"dev\": \"nodemon src/app.js\"\n",
    "```\n",
    "\n",
    "\n"
   ]
  },
  {
   "cell_type": "markdown",
   "metadata": {},
   "source": [
    "3. Start the server by running the following command in the terminal:\n",
    "\n",
    "\n",
    "```\n",
    "npm run dev\n",
    "```\n",
    "\n",
    "\n",
    "Now the server will automatically restart whenever any file changes."
   ]
  },
  {
   "cell_type": "markdown",
   "metadata": {},
   "source": [
    "> **EXERCISE**: Learn more about Nodemon here: https://nodemon.io"
   ]
  },
  {
   "cell_type": "markdown",
   "metadata": {},
   "source": [
    "### Serving Static Files"
   ]
  },
  {
   "cell_type": "markdown",
   "metadata": {},
   "source": [
    "Notice that `index.html` contains references to the files `styles.css`, `jovian_meta.png` and `jovian_favicon.png` that are not present in our project. \n",
    "\n",
    "\n",
    "Here's how we can add them:"
   ]
  },
  {
   "cell_type": "markdown",
   "metadata": {},
   "source": [
    "1. Create a folder `public` inside `src` and add a file `styles.css` inside it with the following content:\n",
    "\n",
    "```css\n",
    ":root {\n",
    "    --bs-font-sans-serif: \"Roboto\", sans-serif;\n",
    "    --bs-blue: #2067F5;\n",
    "    --bs-primary: #2067F5;\n",
    "}\n",
    "\n",
    "h1,\n",
    "h2,\n",
    "h3,\n",
    "h4,\n",
    "h5,\n",
    "h6 {\n",
    "    font-family: 'Inter', sans-serif;\n",
    "    font-weight: 600;\n",
    "}\n",
    "\n",
    "a {\n",
    "    text-decoration: none;\n",
    "}\n",
    "```\n",
    "\n"
   ]
  },
  {
   "cell_type": "markdown",
   "metadata": {},
   "source": [
    "2. Download these files to your computer (Right Click > Save Image As) and add them to the folder `src/public`:\n",
    "\n",
    "  - Favicon: https://i.imgur.com/TGahpNC.png (rename to `jovian_favicon.png`)\n",
    "\n",
    "  - Meta image: https://i.imgur.com/9LR6pGf.png (rename to `jovian_meta.png`)\n",
    " \n",
    "  \n",
    "  \n"
   ]
  },
  {
   "cell_type": "markdown",
   "metadata": {},
   "source": [
    "\n",
    "3. Add the following line in `src/app.js` after the creation of the ExpressJS app:\n",
    "\n",
    "\n",
    "```javascript\n",
    "app.use(express.static(path.join(__dirname, 'public')))\n",
    "\n",
    "```\n"
   ]
  },
  {
   "cell_type": "markdown",
   "metadata": {},
   "source": [
    "You will notice a change in the page styles as the `styles.css` file is now being served at `/styles.css`. Similarly, you can access the files `/jovian_favicon.png` and `/jovian_meta.png`.\n",
    "\n",
    "\n"
   ]
  },
  {
   "cell_type": "markdown",
   "metadata": {},
   "source": [
    "> **NOTE**: Static files are served as-is by the server, without any modification. They are generally used for serving stylesheets, scripts, images, icons, etc."
   ]
  },
  {
   "cell_type": "markdown",
   "metadata": {},
   "source": [
    "> **EXERCISE**: Learn more about serving static files here: https://expressjs.com/en/starter/static-files.html"
   ]
  },
  {
   "cell_type": "markdown",
   "metadata": {},
   "source": [
    "### Deployment with Vercel\n",
    "\n",
    "We can now push our changes to GitHub. We'll deploy our site to the Vercel, that offers seamless integration with GitHub, allowing us to deploy their projects directly from their repositories.\n",
    "\n",
    "\n",
    "\n",
    "<img src=\"https://i.imgur.com/ZDm8YUZ.png\" width=\"360\">\n",
    "\n",
    "Follow these steps to deploy the website to Vercel:\n",
    "\n",
    "\n"
   ]
  },
  {
   "cell_type": "markdown",
   "metadata": {},
   "source": [
    "1. Add a file `vercel.json` in the project's root folder with the following content:\n",
    "\n",
    "\n",
    "```json\n",
    "{\n",
    "    \"version\": 2,\n",
    "    \"builds\": [\n",
    "        {\n",
    "            \"src\": \"src/app.js\",\n",
    "            \"use\": \"@vercel/node\"\n",
    "        }\n",
    "    ],\n",
    "    \"routes\": [\n",
    "        {\n",
    "          \"src\": \"/(.*)\",\n",
    "          \"dest\": \"src/app.js\"\n",
    "        }\n",
    "    ]\n",
    "}\n",
    "```"
   ]
  },
  {
   "cell_type": "markdown",
   "metadata": {},
   "source": [
    "2. Stage, commit, and push all your changes to GitHub"
   ]
  },
  {
   "cell_type": "markdown",
   "metadata": {},
   "source": [
    "3. Go to https://vercel.com and sign up for an account. You can use your GitHub account to sign up or create a new account using your email address.\n"
   ]
  },
  {
   "cell_type": "markdown",
   "metadata": {},
   "source": [
    "4. Once you have signed up, you will be taken to the Vercel dashboard. From here, you can start a new project by clicking the \"New Project\" button.\n"
   ]
  },
  {
   "cell_type": "markdown",
   "metadata": {},
   "source": [
    "5. Choose the repository you want to deploy. Vercel supports GitHub, GitLab, and Bitbucket repositories. Select the repository and the branch you want to deploy.\n"
   ]
  },
  {
   "cell_type": "markdown",
   "metadata": {},
   "source": [
    "6. Leave the project root folder as-is i.e. \"./\" and click \"Deploy\" to deploy the project."
   ]
  },
  {
   "cell_type": "markdown",
   "metadata": {},
   "source": [
    "Vercel will build your project and deploy it to its cloud platform. You will be able to access it shortly thereafter."
   ]
  },
  {
   "cell_type": "markdown",
   "metadata": {},
   "source": [
    "## Templates and Dynamic Data\n",
    "\n",
    "We'll use the [`mustache-express`](npmjs.com/package/mustache-express) package to render the the jobs list/table dynamically using some server data."
   ]
  },
  {
   "cell_type": "markdown",
   "metadata": {},
   "source": [
    "1. Install the `mustache-express` package using the following command:\n",
    "\n",
    "\n",
    "```\n",
    "npm i mustache-express\n",
    "```"
   ]
  },
  {
   "cell_type": "markdown",
   "metadata": {},
   "source": [
    "2. Create a file `src/jobs.js` and add the following code inside it:\n",
    "\n",
    "\n",
    "```javascript\n",
    "\n",
    "const JOBS = [\n",
    "    {\n",
    "        id: 1,\n",
    "        title: 'Frontend Developer',\n",
    "        location: 'Bengaluru, India',\n",
    "        salary: '₹12,00,000',\n",
    "        posted: 'Mar 3, 2023'\n",
    "    },\n",
    "    {\n",
    "        id: 2,\n",
    "        title: 'Full Stack Developer',\n",
    "        location: 'New Delhi, India',\n",
    "        salary: '₹15,00,000',\n",
    "        posted: 'Feb 1, 2023'\n",
    "    },\n",
    "    {\n",
    "        id: 3,\n",
    "        title: 'Data Scientist',\n",
    "        location: 'San Francisco, USA',\n",
    "        salary: '$175,000',\n",
    "        posted: 'Dec 22, 2022'\n",
    "    },\n",
    "    {\n",
    "        id: 4,\n",
    "        title: 'Machine Learning Engineer',\n",
    "        location: 'Remote',\n",
    "        salary: '$80,000',\n",
    "        posted: 'Sep 19, 2022'\n",
    "    },\n",
    "]\n",
    "\n",
    "module.exports = JOBS;\n",
    "\n",
    "```"
   ]
  },
  {
   "cell_type": "markdown",
   "metadata": {},
   "source": [
    "3. Rename `pages/index.html` to `pages/index.mustache` and add the following code below the \"About\" section:\n",
    "\n",
    "\n",
    "```html\n",
    "<!--JOBS-->\n",
    "<div class=\"container px-4 mt-5\">\n",
    "  <h2 class=\"text-center mb-4\">Job Opportunities</h2>\n",
    "\n",
    "  <!--JOBS LIST-->\n",
    "  <div class=\"d-md-none\">\n",
    "\n",
    "    {{#jobs}}\n",
    "      <div class=\"card mb-3\">\n",
    "        <div class=\"card-body\">\n",
    "          <h5 class=\"card-title\"><a href=\"/jobs/{{id}}\">{{title}}</a></h5>\n",
    "          <h6 class=\"card-subtitle my-1 text-body-secondary\">\n",
    "            {{location}} • {{salary}}\n",
    "          </h6>\n",
    "          <small class=\"card-text text-body-secondary\">\n",
    "            Posted {{posted}}\n",
    "          </small>\n",
    "        </div>\n",
    "      </div>\n",
    "    {{/jobs}}\n",
    "\n",
    "  </div>\n",
    "\n",
    "  <!--JOBS TABLE-->\n",
    "  <div class=\"offset-lg-2 col-lg-8\">\n",
    "    <table class=\"d-none d-md-table table table-striped table-bordered\">\n",
    "      <tr class=\"table-primary text-center\">\n",
    "        <th>Job Title</th>\n",
    "        <th>Location</th>\n",
    "        <th>Salary</th>\n",
    "        <th>Posted On</th>\n",
    "      </tr>\n",
    "\n",
    "      {{#jobs}}\n",
    "        <tr>\n",
    "          <td><a href=\"/jobs/{{id}}\">{{title}}</a></td>\n",
    "          <td>{{location}}</td>\n",
    "          <td>{{salary}}</td>\n",
    "          <td>{{posted}}</td>\n",
    "        </tr>\n",
    "      {{/jobs}}\n",
    "\n",
    "    </table>\n",
    "  </div>\n",
    "</div>\n",
    "\n",
    "\n",
    "```"
   ]
  },
  {
   "cell_type": "markdown",
   "metadata": {},
   "source": [
    "3. Replace the code inside `src/app.js` with the following:\n",
    "\n",
    "\n",
    "```javascript\n",
    "const express = require('express');\n",
    "const path = require('path');\n",
    "const mustacheExpress = require('mustache-express');\n",
    "const JOBS = require('./jobs');\n",
    "\n",
    "const app = express();\n",
    "app.use(express.static(path.join(__dirname, 'public')));\n",
    "\n",
    "// Configure mustache\n",
    "app.set('views', `${__dirname}/pages`);\n",
    "app.set('view engine', 'mustache');\n",
    "app.engine('mustache', mustacheExpress());\n",
    "\n",
    "// Render the template\n",
    "app.get('/', (req, res) => {\n",
    "    res.render('index', { jobs: JOBS});\n",
    "})\n",
    "\n",
    "const port = process.env.PORT || 3000;\n",
    "\n",
    "app.listen(port, () => {\n",
    "    console.log(`Server running on https://localhost:${port}`)\n",
    "})\n",
    "\n",
    "\n",
    "```"
   ]
  },
  {
   "cell_type": "markdown",
   "metadata": {},
   "source": [
    "The page now shows the job table/list on the appropriate device:\n",
    "\n",
    "<img src=\"https://i.imgur.com/xRY3bY8.png\" width=\"420\">\n",
    "\n",
    "\n",
    "Note that clicking on the job title navigates to a new page, which currently doesn't exist yet."
   ]
  },
  {
   "cell_type": "markdown",
   "metadata": {},
   "source": [
    "> **EXERCISE**: Check out the Mustache manual to learn how the Mustache templating engine works: https://mustache.github.io/mustache.5.html"
   ]
  },
  {
   "cell_type": "markdown",
   "metadata": {},
   "source": [
    "## Route Parameters & Dynamic Pages"
   ]
  },
  {
   "cell_type": "markdown",
   "metadata": {},
   "source": [
    "Let's now create a page for each job at the URL `/jobs/<job-id>`"
   ]
  },
  {
   "cell_type": "markdown",
   "metadata": {},
   "source": [
    "1. Create a file `src/pages/job.mustache` with [this content](https://gist.githubusercontent.com/sydney-jovian/3b4c96dbc8bebcb3ed538e3a21a0e482/raw/job.html)."
   ]
  },
  {
   "cell_type": "markdown",
   "metadata": {},
   "source": [
    "2. Add the following lines to `src/app.js`:\n",
    "\n",
    "\n",
    "```javascript\n",
    "app.get('/jobs/:id', (req, res) => {\n",
    "    const id = req.params.id;\n",
    "    const matchedJob = JOBS.find(job => job.id.toString() === id);\n",
    "    res.render('job', { job: matchedJob});\n",
    "})\n",
    "```"
   ]
  },
  {
   "cell_type": "markdown",
   "metadata": {},
   "source": [
    "This creates individual job pages at the appropriate URL:\n",
    "\n",
    "<img src=\"https://i.imgur.com/VtgWx0g.png\" width=\"420\">"
   ]
  },
  {
   "cell_type": "markdown",
   "metadata": {},
   "source": [
    "> **NOTE**: Click \"Submit Applications\" directs to the page `/job/:id/apply` which shows the error `Cannot POST /jobs/1/apply` because it's not implemented yet."
   ]
  },
  {
   "cell_type": "markdown",
   "metadata": {},
   "source": [
    "> **EXERCISE**: Learn more about routing in Express JS here: https://expressjs.com/en/guide/routing.html"
   ]
  },
  {
   "cell_type": "markdown",
   "metadata": {},
   "source": [
    "## Handling Form Submissions"
   ]
  },
  {
   "cell_type": "markdown",
   "metadata": {},
   "source": [
    "Let's add another page that accepts the form submission, sends the application over email, and shows an acknowledgement page:"
   ]
  },
  {
   "cell_type": "markdown",
   "metadata": {},
   "source": [
    "1. Install the `nodemailer`, `dotenv`, and `body-parser` packages:\n",
    "\n",
    "\n",
    "```bash\n",
    "npm install nodemailer dotenv body-parser\n",
    "```"
   ]
  },
  {
   "cell_type": "markdown",
   "metadata": {},
   "source": [
    "2. Create a file `.env` at the root of the repository with your email id & password (use a temporary/dummy account):\n",
    "\n",
    "\n",
    "```ini\n",
    "EMAIL_ID=email@example.com\n",
    "EMAIL_PASSWORD=p@ssword\n",
    "\n",
    "```\n"
   ]
  },
  {
   "cell_type": "markdown",
   "metadata": {},
   "source": [
    "3. Add the following lines in `app/src.js`:\n",
    "\n",
    "```javascript\n",
    "// above imports\n",
    "require('dotenv').config();\n",
    "const nodemailer = require('nodemailer');\n",
    "const bodyParser = require('body-parser');\n",
    "\n",
    "// below app\n",
    "\n",
    "app.use(bodyParser.urlencoded({ extended: false }));\n",
    "```"
   ]
  },
  {
   "cell_type": "markdown",
   "metadata": {},
   "source": [
    "4. Create a transport to send the emails (you might need to modify this based on your email provider):\n",
    "\n",
    "\n",
    "```javascript\n",
    "const transporter = nodemailer.createTransport({\n",
    "    host: 'mail.gmx.com',\n",
    "    port: 465,\n",
    "    secure: true,\n",
    "    auth: {\n",
    "      user: process.env.EMAIL_ID,\n",
    "      pass: process.env.EMAIL_PASSWORD\n",
    "    }\n",
    "});\n",
    "\n",
    "\n",
    "\n",
    "```"
   ]
  },
  {
   "cell_type": "markdown",
   "metadata": {},
   "source": [
    "5. Add a route in to handle the request, and send an email:\n",
    "\n",
    "\n",
    "```javascript\n",
    "\n",
    "app.post('/jobs/:id/apply', (req, res) => {\n",
    "    console.log('req.body', req.body);\n",
    "    const { name, email, phone, dob, position, coverletter } = req.body;\n",
    "\n",
    "    // console.log('New Application', {name, email, phone, dob, position, coverletter});\n",
    "\n",
    "    const id = req.params.id;\n",
    "    const matchedJob = JOBS.find(job => job.id.toString() === id);\n",
    "  \n",
    "    const mailOptions = {\n",
    "      from: process.env.EMAIL_ID,\n",
    "      to: process.env.EMAIL_ID,\n",
    "      subject: `New Application for ${matchedJob.title}`,\n",
    "      html: `\n",
    "        <p><strong>Name:</strong> ${name}</p>\n",
    "        <p><strong>Email:</strong> ${email}</p>\n",
    "        <p><strong>Phone:</strong> ${phone}</p>\n",
    "        <p><strong>Date of Birth:</strong> ${dob}</p>\n",
    "        <p><strong>Cover Letter:</strong> ${coverletter}</p>\n",
    "      `\n",
    "    };\n",
    "  \n",
    "    transporter.sendMail(mailOptions, (error, info) => {\n",
    "      if (error) {\n",
    "        console.error(error);\n",
    "        res.status(500).send('Error sending email');\n",
    "      } else {\n",
    "        console.log('Email sent: ' + info.response);\n",
    "        res.status(200).send('Email sent successfully');\n",
    "      }\n",
    "    });\n",
    "  });\n",
    "\n",
    "```"
   ]
  },
  {
   "cell_type": "markdown",
   "metadata": {},
   "source": [
    "> **EXERCISE**: Learn more about Nodemailer here: https://nodemailer.com"
   ]
  },
  {
   "cell_type": "markdown",
   "metadata": {},
   "source": [
    "## Deployment with Environment Variables\n",
    "\n",
    "\n",
    "You can now stage, commit & push your change to deploy the application to Vercel. However, you will need to configure environment variables in the Vercel project dashboard as described here: https://vercel.com/docs/concepts/projects/environment-variables\n",
    "\n",
    "\n",
    "\n",
    "<img src=\"https://i.imgur.com/Tab3EVJ.png\" width=\"420\">"
   ]
  },
  {
   "cell_type": "markdown",
   "metadata": {},
   "source": [
    "> **EXERCISES**: \n",
    ">\n",
    "> 1. Create a mustache template `applied.mustache` and render it to show an \"Application submitted\" page.\n",
    ">\n",
    ">\n",
    "> 2. Modify the form submission code to include the Resume as an attachment to the email.\n",
    "> \n",
    ">\n",
    "> 2. Prevent spam and automated submissions by adding human verification using [HCaptcha](https://docs.hcaptcha.com/) \n",
    ">\n",
    "> **Tip**: Ask ChatGPT or https://jovian.com/jobot for help"
   ]
  },
  {
   "cell_type": "markdown",
   "metadata": {},
   "source": [
    "## Summary and References"
   ]
  },
  {
   "cell_type": "markdown",
   "metadata": {},
   "source": [
    "The following topics are covered in this tutorial: \n",
    "\n",
    "\n",
    "- Creating and running a web server using the Express web framework\n",
    "\n",
    "\n",
    "- Serving HTML pages, static files, and dynamic data using templates\n",
    "\n",
    "\n",
    "- Using route parameters to create and serve dynamic pages\n",
    "\n",
    "\n",
    "- Accepting form submissions and sending emails from the server\n",
    "\n",
    "\n",
    "The best way to learn these skills is to follow along step-by-step and type out all the code yourself.\n"
   ]
  },
  {
   "cell_type": "markdown",
   "metadata": {},
   "source": [
    "The code for this tutorial can be found here:\n",
    "\n",
    "\n",
    "- Starter code: https://github.com/sydney-jovian/jovian-careers-bootstrap\n",
    "\n",
    "\n",
    "- Starter site: https://jovian-careers-bootstrap.vercel.app\n",
    "\n",
    "\n",
    "- Finished code: https://github.com/sydney-jovian/jovian-careers-express\n",
    "\n",
    "\n",
    "- Finished site: https://jovian-careers-express.vercel.app"
   ]
  },
  {
   "cell_type": "markdown",
   "metadata": {},
   "source": [
    "Check out these resources to learn more:\n",
    "\n",
    "\n",
    "- Express.js: https://expressjs.com/en/starter/installing.html\n",
    "\n",
    "\n",
    "- Nodemon: https://nodemon.io/\n",
    "\n",
    "\n",
    "- Mustache Templates: https://github.com/janl/mustache.js\n",
    "\n",
    "\n",
    "- Body Parser Middleware: https://medium.com/@adamzerner/understanding-express-js-body-parser-middleware-9c1c99c73755\n",
    "\n",
    "\n",
    "- HTTP Methods: https://developer.mozilla.org/en-US/docs/Web/HTTP/Methods\n",
    "\n",
    "\n",
    "- Nodemailer: https://nodemailer.com/about/\n",
    "\n",
    "\n",
    "- Simple Mail Transfer Protocol (SMTP): https://www.smtp.com/resources/smtp-protocol/\n",
    "\n",
    "\n",
    "**TIP**: In most cases, you can find exactly what you're looking for by asking ChatGPT or [Jobot](https://jovian.com/jobot)"
   ]
  }
 ],
 "metadata": {
  "language_info": {
   "file_extension": ".js",
   "mimetype": "application/javascript",
   "name": "javascript",
   "version": "12.4.0"
  }
 },
 "nbformat": 4,
 "nbformat_minor": 2
}