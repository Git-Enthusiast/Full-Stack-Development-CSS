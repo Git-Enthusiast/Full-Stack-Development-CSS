{
 "cells": [
  {
   "cell_type": "markdown",
   "metadata": {},
   "source": [
    "# Mobile-First Responsive Design\n",
    "\n",
    "In this assignment, you will implement a responsive web page using CSS media queries & flexbox layout for these Figma mockups: https://www.figma.com/file/5QR0T9a8ZYBlOShN55uW63/Responsive-Design-Art-News-Landing-Page-(Community)?node-id=0%3A1&t=UPhKkIOocr63KPoa-1\n",
    "\n",
    "### Step 1 - Prepare for Development & Deployment\n",
    "\n",
    "- Inspect the design mockup using Figma by [following this guide](https://www.figma.com/best-practices/tips-on-developer-handoff/an-overview-of-figma-for-developers/)\n",
    "- Create a public GitHub repository to host & share your code\n",
    "- Use GitHub Codespaces to edit the code and add an `index.html` file\n",
    "- Deploy the web page to the cloud by creating a Vercel project\n",
    "\n",
    "### Step 2 - Set up Base Styles & Breakpoints\n",
    "\n",
    "- Create a `styles.css` file and link it from `index.html`\n",
    "- Add appropriate breakpoints using CSS media queries\n",
    "- Add base fonts, colors, and text sizes for body & headings\n",
    "- Update base styles for tablet and desktop screens appropriately\n",
    "\n",
    "### Step 3 - Implement Section by Section\n",
    "\n",
    "- Add the content for each section one by one using HTML\n",
    "- Use Figma's \"Inspect\" tab to identify and add CSS styles\n",
    "- Start with mobile and progressively enhance for tablet & desktop\n",
    "- Try to replicate the mockup as closely & precisely as possible\n",
    "\n",
    "### Step 4 - Deploy and Make a Submission\n",
    "\n",
    "- Test the page carefully at different screen sizes & iterate if required\n",
    "- Ensure that the HTML and CSS code is well organized with proper comments\n",
    "- Stage, commit, and push your changes to the GitHub repository\n",
    "- Verify that your site is deployed to Vercel and submit the link below"
   ]
  },
  {
   "cell_type": "code",
   "execution_count": null,
   "metadata": {},
   "outputs": [],
   "source": [
    "print('Hello World')"
   ]
  }
 ],
 "metadata": {
  "language_info": {
   "codemirror_mode": {
    "name": "ipython",
    "version": 3
   },
   "file_extension": ".py",
   "mimetype": "text/x-python",
   "name": "python",
   "nbconvert_exporter": "python",
   "pygments_lexer": "ipython3",
   "version": "3.7.6"
  }
 },
 "nbformat": 4,
 "nbformat_minor": 2
}