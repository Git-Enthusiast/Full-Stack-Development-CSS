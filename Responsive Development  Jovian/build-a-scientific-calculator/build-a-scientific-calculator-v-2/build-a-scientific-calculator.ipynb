{
 "cells": [
  {
   "cell_type": "markdown",
   "metadata": {},
   "source": [
    "# Build a Scientific Calculator\n",
    "\n",
    "In this assignment, you will replicate the user interface and functionality of [Google's Scientific Calculator](google.com/search?q=calculator). Here's how it looks:\n",
    "\n",
    "<img src=\"https://i.imgur.com/GdmG0zm.png\" width=\"640\">\n",
    "\n",
    "Notes:\n",
    "\n",
    "- Try to replicate the basic UI & functionality of the calculator\n",
    "- You need not implement the \"History\" button on the top left\n",
    "- You can also skip showing the previous expression above the result\n",
    "- You needn't implement the 123/fx button (just show all buttons on one screen)\n",
    "\n",
    "\n",
    "Follow these steps to build the UI step-by-step:\n",
    "\n",
    "\n",
    "### Step 1 - Prepare for Development & Deployment\n",
    "\n",
    "- Create a public GitHub repository to host & share your code\n",
    "- Use GitHub Codespaces to edit the code and add an `index.html` file\n",
    "- Add the Bootstrap CSS framework, custom fonts, and base styles\n",
    "- Deploy the web page to the cloud by creating a Vercel project\n",
    "\n",
    "\n",
    "### Step 2 - Build the User Interface with HTML & CSS\n",
    "\n",
    "- Add the content for each section one by one using HTML\n",
    "- Use the browser \"Inspect\" tab to identify and add CSS styles\n",
    "- Start with mobile and progressively enhance for tablet & desktop\n",
    "- Try to replicate the design as closely & precisely as possible\n",
    "\n",
    "\n",
    "### Step 3 - Add Functionality using JavaScript\n",
    "\n",
    "- Add a `script.js` file an include it within the `index.html` file\n",
    "- Create variables and functions to track current & previous expressions\n",
    "- Create functions to implement each the logic for each button\n",
    "- Add on click handlers to buttons and update DOM nodes \n",
    "\n",
    "\n",
    "### Step 4 - Deploy to the Cloud and Make a Submission\n",
    "\n",
    "- Test the page carefully at different screen sizes & iterate if required\n",
    "- Ensure that the HTML, CSS & JavaScript code is well organized with proper comments\n",
    "- Stage, commit, and push your changes to the GitHub repository\n",
    "- Verify that your site is deployed to Vercel and submit the link below\n",
    "\n",
    "\n",
    "**NOTE**: Implementing the \"History\" button at the top right of the calculator is NOT required for this assignment. Any animations and transitions are also optional. However, feel free to take it up as an optional extension."
   ]
  },
  {
   "cell_type": "code",
   "execution_count": null,
   "metadata": {},
   "outputs": [],
   "source": [
    "print('Hello World')"
   ]
  }
 ],
 "metadata": {
  "language_info": {
   "codemirror_mode": {
    "name": "ipython",
    "version": 3
   },
   "file_extension": ".py",
   "mimetype": "text/x-python",
   "name": "python",
   "nbconvert_exporter": "python",
   "pygments_lexer": "ipython3",
   "version": "3.7.6"
  }
 },
 "nbformat": 4,
 "nbformat_minor": 2
}