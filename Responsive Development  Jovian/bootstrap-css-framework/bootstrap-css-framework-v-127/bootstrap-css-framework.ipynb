{
 "cells": [
  {
   "cell_type": "markdown",
   "metadata": {},
   "source": [
    "# Bootstrap CSS Framework\n",
    "\n",
    "![](https://i.imgur.com/g5wqGw2.png)\n",
    "\n"
   ]
  },
  {
   "cell_type": "markdown",
   "metadata": {},
   "source": [
    "In today's web development landscape, CSS frameworks play a crucial role in simplifying and expediting the design & development process while reducing the amount of code to be written & maintained. \n",
    "\n",
    "The [Bootstrap CSS framework](https://getbootstrap.com/) is a powerful and widely-used toolkit for designing responsive, mobile-first websites. Bootstrap offers a vast array of pre-built components, utility classes, and a responsive grid system. \n"
   ]
  },
  {
   "cell_type": "markdown",
   "metadata": {},
   "source": [
    "The following topics are covered in this tutorial:\n",
    "\n",
    "\n",
    "- Installing Bootstrap's CSS and JavaScript bundles into a web development project\n",
    "\n",
    "\n",
    "- Modifying Bootstrap's default colors & typography using CSS variables & custom selectors\n",
    "\n",
    "\n",
    "- Using Bootstrap's breakpoints and grid system for creating mobile-first responsive web pages\n",
    "\n",
    "\n",
    "- Leveraging Bootstrap's utility classes for applying layout & style changes without writing CSS\n",
    "\n",
    "\n",
    "- Using Bootstrap's prebuilt components and examples for building a web page quickly & efficiently\n",
    "\n",
    "\n",
    "\n",
    "The best way to learn these skills is to follow along step-by-step and type out all the code yourself. "
   ]
  },
  {
   "cell_type": "markdown",
   "metadata": {},
   "source": [
    "## Problem Statement & Setup"
   ]
  },
  {
   "cell_type": "markdown",
   "metadata": {},
   "source": [
    "We'll explore abovementioned topics by attempting to solve this problem statement:\n",
    "\n",
    "> **PROBLEM**: Rebuild the [Jovian Careers website](https://jovian-careers-responsive.vercel.app/) created in the [previous tutorial](https://jovian.com/aakashns/responsive-design-and-css-flexbox) using the Bootstrap CSS framework. Make the following changes: \n",
    ">\n",
    ">\n",
    "> 1. Add some links in the navigation bar, and show a collapsible menu on mobile devices. \n",
    ">\n",
    ">\n",
    "> 2. Show the list of jobs using cards on mobile and a table on desktop devices. \n",
    ">\n",
    ">\n",
    "> 3. Make the color scheme, typography, and layout consistent and aesthetically pleasing.\n",
    "\n",
    "\n",
    "Here's what the site created in the previous tutorial looks like:\n",
    "\n",
    "<a href=\"https://jovian-careers-responsive.vercel.app/\" target=\"_blank\"><img src=\"https://i.imgur.com/9eFcCBy.png\" width=\"360\"></a>"
   ]
  },
  {
   "cell_type": "markdown",
   "metadata": {},
   "source": [
    "### Prerequisites\n",
    "\n",
    "This tutorials assumes knowledge of the following:\n",
    "\n",
    "- HTML and CSS basics\n",
    "\n",
    "\n",
    "- Flexbox and responsive design\n",
    "\n",
    "\n",
    "- Version control with [GitHub](https://github.com)\n",
    "\n",
    "\n",
    "- Cloud deployment with [Vercel](https://vercel.com)"
   ]
  },
  {
   "cell_type": "markdown",
   "metadata": {},
   "source": [
    "### Source Code and Result\n",
    "\n",
    "\n",
    "The code for this tutorial can be found here:\n",
    "\n",
    "\n",
    "- Starter code: https://github.com/sydney-jovian/jovian-careers-responsive\n",
    "\n",
    "\n",
    "- Starter site: https://jovian-careers-responsive.vercel.app/\n",
    "\n",
    "\n",
    "- Completed code: https://github.com/sydney-jovian/jovian-careers-bootstrap\n",
    "\n",
    "\n",
    "- Finished site: https://jovian-careers-bootstrap.vercel.app/"
   ]
  },
  {
   "cell_type": "markdown",
   "metadata": {},
   "source": [
    "### Creating a GitHub Repository\n",
    "\n",
    "<img src=\"https://i.imgur.com/GNtDaEa.png\" width=\"420\">\n",
    "\n",
    "Follow these steps to sign up and create a new repository on GitHub:\n",
    "\n",
    "\n",
    "1. To create a new repository, click on the \"New\" button located on the left side of the GitHub dashboard.\n",
    "\n",
    "\n",
    "3. On the \"Create a new repository\" page, enter a name for your repository, a brief description, and choose whether you want it to be public or private. \n",
    "\n",
    "\n",
    "4. Pick \"Node\" under the selection for the `.gitignore` template, and pick an appropriate license (e.g. MIT). You can also include a `README.md` file\n",
    "\n",
    "\n",
    "5. Once you've filled out the necessary information, click on the \"Create repository\" button to create your new repository.\n",
    "\n",
    "\n",
    "6. Now that you've created your repository, you'll be taken to the repository page, where you can add files, make changes to your code, and collaborate with others.\n",
    "\n",
    "\n",
    "\n",
    "\n"
   ]
  },
  {
   "cell_type": "markdown",
   "metadata": {},
   "source": [
    "### Development with GitHub Codespaces\n",
    "\n",
    "<img src=\"https://i.imgur.com/hjleBqj.png\" width=\"420\">\n",
    "\n",
    "We can now open up the repository in GitHub Codespaces and launch it within VS Code:\n",
    "\n",
    "\n",
    "1. Click the \"Code\" button on the repository page, and select \"Open with Codespaces\".\n",
    "\n",
    "\n",
    "2. Select the Codespace configuration that you want to use, or create a new one if necessary.\n",
    "\n",
    "\n",
    "3. Wait for the Codespace to be created, which may take a few minutes, if done for the first time.\n",
    "\n",
    "\n",
    "4. Once the Codespace is ready, click on the \"Open in Visual Studio Code\" button \n",
    "\n",
    "\n",
    "5. Install and use the [\"Live Server\" extension](https://marketplace.visualstudio.com/items?itemName=ritwickdey.LiveServer) to preview the site during development\n",
    "\n",
    "You can either work with the browser-based version of VS Code, or you can connect remotely to the codespace using your installation of VS Code. You can push your changes back to the GitHub repository using Git commands on using the VS Code's user interface."
   ]
  },
  {
   "cell_type": "markdown",
   "metadata": {},
   "source": [
    "### Basic Project Setup\n",
    "\n",
    "\n",
    "To begin, we can set up an HTML page as follows:\n",
    "\n",
    "\n",
    "1. Create an `src` folder within the repository.\n",
    "\n",
    "\n",
    "2. Add an HTML file `index.html` with the following content:\n",
    "\n",
    "```html\n",
    "\n",
    "<!DOCTYPE html>\n",
    "<html lang=\"en\">\n",
    "  <head>\n",
    "    <title>Jovian Careers | Powered by Bootstrap</title>\n",
    "    <meta charset=\"UTF-8\" />\n",
    "    <meta name=\"viewport\" content=\"width=device-width, initial-scale=1.0\" />\n",
    "    <meta\n",
    "      name=\"description\"\n",
    "      content=\"Learn about job openings at Jovian and submit your application now\"\n",
    "    />\n",
    "    <meta property=\"og:title\" content=\"Jovian Careers\" />\n",
    "    <meta\n",
    "      property=\"og:description\"\n",
    "      content=\"Learn about job openings at Jovian and submit your application now\"\n",
    "    />\n",
    "    <meta property=\"og:image\" content=\"/jovian_meta.png\" />    \n",
    "    <link rel=\"icon\" href=\"/jovian_favicon.png\" type=\"image/x-icon\" />\n",
    "  </head>\n",
    "\n",
    "  <body>\n",
    "    <!--NAVBAR-->\n",
    "    <div>Navbar</div>\n",
    "\n",
    "    <!--ABOUT SECTION-->\n",
    "    <div>About Jovian</div>\n",
    "    \n",
    "    <!--JOBS-->\n",
    "    <div>Jobs List/Table</div>\n",
    "    \n",
    "    <!--APPLICATION FORM-->\n",
    "    <div>Application Form</div>\n",
    "    \n",
    "    <!--FOOTER-->\n",
    "    <div>Footer</div>\n",
    "  </body>\n",
    "</html>\n",
    "\n",
    "```\n",
    "\n",
    "\n",
    "3. Download these images and upload them into the `src` folder\n",
    "\n",
    "  - Favicon: https://i.imgur.com/bI5E3FA.png\n",
    "\n",
    "  - Meta image: https://i.imgur.com/6P6YVB9.png\n",
    "\n",
    "\n",
    "\n",
    "You can now preview the page using the \"Live Server\" extension by clicking the \"Go Live\" button at the bottom right of the editor. \n",
    "\n",
    "\n",
    "**TIP**: You can also install the [\"Prettier\" extension](https://marketplace.visualstudio.com/items?itemName=esbenp.prettier-vscode) and turn on \"Format on Save\" to automatically format the file when you save it.\n",
    "\n",
    "\n"
   ]
  },
  {
   "cell_type": "markdown",
   "metadata": {},
   "source": [
    "Here's what the page currently looks like:\n",
    "\n",
    "<img src=\"https://i.imgur.com/cvDAAvZ.png\" width=\"420\">"
   ]
  },
  {
   "cell_type": "markdown",
   "metadata": {},
   "source": [
    "## Getting Started with Boostrap \n",
    "\n",
    "<img src=\"https://i.imgur.com/SjXOSC7.png\" width=\"480\">"
   ]
  },
  {
   "cell_type": "markdown",
   "metadata": {},
   "source": [
    "[Bootstrap](https://getbootstrap.com/) is a powerful, open-source CSS framework designed to streamline the development of responsive, mobile-first web projects. \n",
    "\n",
    "\n",
    "With its extensive library of pre-built components, styles, and utilities, it enables developers to rapidly create visually appealing and highly functional websites. \n",
    "\n",
    "\n",
    "Embracing Bootstrap's modular and customizable approach, web designers can achieve a consistent and professional look across devices and platforms."
   ]
  },
  {
   "cell_type": "markdown",
   "metadata": {},
   "source": [
    "### Bootstrap Installation\n",
    "\n",
    "While there are [many ways](https://getbootstrap.com/docs/5.3/getting-started) to install Bootstrap, the easiest is to include it's CSS and JavaScript directly within an HTML page.\n",
    "\n",
    "\n",
    "1. Add the following `link` tag in the `head`:\n",
    "\n",
    "```html\n",
    "<link href=\"https://cdn.jsdelivr.net/npm/bootstrap@5.3.0-alpha3/dist/css/bootstrap.min.css\" rel=\"stylesheet\" integrity=\"sha384-KK94CHFLLe+nY2dmCWGMq91rCGa5gtU4mk92HdvYe+M/SXH301p5ILy+dN9+nJOZ\" crossorigin=\"anonymous\">\n",
    "\n",
    "```\n",
    "\n",
    "\n",
    "3. Add the following `script` tag at the end of the `body`:\n",
    "\n",
    "```html\n",
    "<script src=\"https://cdn.jsdelivr.net/npm/bootstrap@5.3.0-alpha3/dist/js/bootstrap.bundle.min.js\" integrity=\"sha384-ENjdO4Dr2bkBIFxQpeoTz1HIcje39Wm4jDKdf19U8gI4ddQ3GYNS7NTKfAdVQSZe\" crossorigin=\"anonymous\"></script>\n",
    "```\n",
    "\n",
    "\n",
    "The JavaScript file is used within interactive components included with Bootstrap. Learn more here: https://getbootstrap.com/docs/5.3/getting-started/introduction/#js-components"
   ]
  },
  {
   "cell_type": "markdown",
   "metadata": {},
   "source": [
    "Once you save the file and reload the live preview, you'll notice that base styles from Bootstrap are automatically applied to the page. Default browser margins and paddings are also reset.\n",
    "\n",
    "<img src=\"https://i.imgur.com/f6AagSo.png\" width=\"420\">\n"
   ]
  },
  {
   "cell_type": "markdown",
   "metadata": {},
   "source": [
    "### CSS Variables\n",
    "\n",
    "Frameworks like bootstrap enable customization via CSS variables. CSS variables, also known as custom properties, allow you to define reusable values in your stylesheets. This makes it easier to manage and update values, such as colors or font sizes, throughout your CSS code. \n",
    "\n",
    "\n"
   ]
  },
  {
   "cell_type": "markdown",
   "metadata": {},
   "source": [
    "#### Defining a CSS variable\n",
    "\n",
    "To define a CSS variable, you'll need to use the -- syntax. It's a good practice to define your variables within the :root selector, as this makes them globally available:\n",
    "\n",
    "```css\n",
    ":root {\n",
    "  --primary-color: #3498db;\n",
    "  --secondary-color: #2ecc71;\n",
    "  --font-size: 16px;\n",
    "}\n",
    "\n",
    "```\n"
   ]
  },
  {
   "cell_type": "markdown",
   "metadata": {},
   "source": [
    "#### Using a CSS variable\n",
    "\n",
    "To use a CSS variable, you can reference it with the `var()` function:\n",
    "\n",
    "\n",
    "```css\n",
    "body {\n",
    "  background-color: var(--primary-color);\n",
    "  font-size: var(--font-size);\n",
    "}\n",
    "\n",
    "button {\n",
    "  background-color: var(--secondary-color);\n",
    "  font-size: var(--font-size);\n",
    "}\n",
    "\n",
    "```\n",
    "\n",
    "In this example, the `body` background color is set to the `--primary-color` variable value, and both `body` and `button` font sizes are set to the `--font-size` variable value.\n",
    "\n"
   ]
  },
  {
   "cell_type": "markdown",
   "metadata": {},
   "source": [
    "#### Updating a CSS variable\n",
    "\n",
    "If you need to update the value of a CSS variable, you can simply change the value where it's defined:\n",
    "\n",
    "\n",
    "```css\n",
    "\n",
    ":root {\n",
    "  --primary-color: #9b59b6; /* Updated value */\n",
    "  --secondary-color: #2ecc71;\n",
    "  --font-size: 16px;\n",
    "}\n",
    "\n",
    "\n",
    "```\n",
    "\n",
    "By updating the `--primary-color` variable value, the body background color will be updated automatically."
   ]
  },
  {
   "cell_type": "markdown",
   "metadata": {},
   "source": [
    "#### Using fallback values\n",
    "\n",
    "You can provide a fallback value when using a CSS variable, which will be used if the variable is not defined:\n",
    "\n",
    "\n",
    "```css\n",
    "\n",
    "body {\n",
    "  background-color: var(--primary-color, #3498db);\n",
    "  font-size: var(--font-size, 16px);\n",
    "}\n",
    "```\n",
    "\n",
    "In this example, if `--primary-color` or `--font-size` are not defined, the fallback values `#3498db` and `16px` will be used respectively."
   ]
  },
  {
   "cell_type": "markdown",
   "metadata": {},
   "source": [
    "> **EXERCISE**: Learn more about CSS variables and experiment with them by following along with this guide: https://developer.mozilla.org/en-US/docs/Web/CSS/Using_CSS_custom_properties"
   ]
  },
  {
   "cell_type": "markdown",
   "metadata": {},
   "source": [
    "### Customizing Bootstrap\n",
    "\n",
    "Many of Bootstrap's default color and typography styles can be customized using CSS variables. The full list of available CSS variables is given here: https://getbootstrap.com/docs/5.3/customize/css-variables/ . \n",
    "\n",
    "You can also override Bootstrap's default styles by supplying your own styles in a CSS files with appropriate selectors i.e. tags, classes or IDs. \n",
    "\n",
    "Remember that CSS styles are cascading i.e. a more specific rule can override a less specific one. If two rules have the same specificity, then the rule that appears last takes precedence. \n",
    "\n",
    "\n",
    "<img src=\"https://i.imgur.com/OBf3upK.png\" width=\"420\">\n",
    "\n"
   ]
  },
  {
   "cell_type": "markdown",
   "metadata": {},
   "source": [
    "> **EXERCISE**: Learn more about Cascading in CSS here: https://developer.mozilla.org/en-US/docs/Learn/CSS/Building_blocks/Cascade_and_inheritance\n"
   ]
  },
  {
   "cell_type": "markdown",
   "metadata": {},
   "source": [
    "#### Typography & Color Customization\n",
    "\n",
    "\n",
    "\n",
    "Let's make the following changes to the our page:\n",
    "\n",
    "\n",
    "1. We'll use the font \"Roboto\" for body text\n",
    "\n",
    "\n",
    "2. We'll use the font \"Inter\" for headings\n",
    "\n",
    "\n",
    "3. We'll use `#2067F5` as the primary blue color\n",
    "\n",
    "\n"
   ]
  },
  {
   "cell_type": "markdown",
   "metadata": {},
   "source": [
    "You can customize some of the default styles of Bootstrap using CSS Variables. \n",
    "\n",
    "1. Add a sample heading, body text, and a blue box within the `index.html` page to observe the changes we're making\n",
    "\n",
    "\n",
    "```html\n",
    "\n",
    "<h1>Sample Heading</h1>\n",
    "<div>Sample body text</div>\n",
    "<div style=\"height: 200px; width: 200px; background: var(--bs-blue)\"></div>\n",
    "\n",
    "```\n",
    "\n",
    "\n",
    "2. Import the Roboto and Inter fonts from [Google Fonts](https://fonts.google.com/) by including the following `link` tag in the `index.html` file:\n",
    "\n",
    "\n",
    "```html\n",
    "<link rel=\"preconnect\" href=\"https://fonts.googleapis.com\">\n",
    "<link rel=\"preconnect\" href=\"https://fonts.gstatic.com\" crossorigin>\n",
    "<link href=\"https://fonts.googleapis.com/css2?family=Inter:wght@100;200;300;400;500;600;700;800;900&family=Roboto:ital,wght@0,100;0,300;0,400;0,500;0,700;0,900;1,100;1,300;1,400;1,500;1,700;1,900&display=swap\" rel=\"stylesheet\">\n",
    "\n",
    "```\n",
    "\n",
    "\n",
    "3. Set up a `styles.css` file and connect it to the `index.html` page using a `link` tag within `head`. Make sure to place the link tag below Bootstrap's `link` tag.\n",
    "\n",
    "\n",
    "```html\n",
    "<link rel=\"stylesheet\" href=\"styles.css\">\n",
    "\n",
    "```\n",
    "\n",
    "\n",
    "\n",
    "4. Add a `:root` section in `styles.css` and provide new values for the desired CSS variables. For example, we can change the default font family to \"Roboto\" and primary blue color to `#2067F5` as shown below:\n",
    "\n",
    "\n",
    "```css\n",
    "\n",
    ":root {\n",
    "    --bs-font-sans-serif: \"Roboto\", sans-serif;\n",
    "    --bs-blue: #2067F5;\n",
    "    --bs-primary: #2067F5;\n",
    "}\n",
    "\n",
    "```\n",
    "\n",
    "\n",
    "5. Use tag selectors to change the font used for headings to \"Inter\":\n",
    "\n",
    "\n",
    "```css\n",
    "\n",
    "h1, h2, h3, h4, h5, h6 {\n",
    "  font-family: 'Inter', sans-serif;\n",
    "}\n",
    "\n",
    "\n",
    "```\n",
    "\n",
    "\n",
    "The sample heading, body text, and blue box can now be removed.\n",
    "\n",
    "\n"
   ]
  },
  {
   "cell_type": "markdown",
   "metadata": {},
   "source": [
    "#### Other Customizations\n",
    "\n",
    "\n",
    "**NOTE**: Bootstrap is written in [SASS](https://sass-lang.com/), an expanded version of CSS, that can be compiled down to plain CSS for distribution. For more advanced customizations, you can make changes to the original `.scss` source files and compile them to a custom CSS file as described here: https://getbootstrap.com/docs/5.3/customize/sass/\n"
   ]
  },
  {
   "cell_type": "markdown",
   "metadata": {},
   "source": [
    "> **EXERCISE**: Make some other changes to the page either by modifying the [Bootstrap's CSS variables](https://getbootstrap.com/docs/5.3/customize/css-variables/) or by providing custom styles within the styles.css file. Observe their changes on the web page."
   ]
  },
  {
   "cell_type": "markdown",
   "metadata": {},
   "source": [
    "## Building Responsive Layouts\n",
    "\n"
   ]
  },
  {
   "cell_type": "markdown",
   "metadata": {},
   "source": [
    "Bootstrap contains built-in breakpoints, media queries, and a grid system to create responsive layouts simply by adding some classes to HTML elements, without requiring any custom CSS. Replacing CSS properties with utility classes is one of the biggest benefits of using a CSS framework."
   ]
  },
  {
   "cell_type": "markdown",
   "metadata": {},
   "source": [
    "### Breakpoints\n",
    "\n",
    "<img src=\"https://i.imgur.com/6wrxllR.png\" width=\"420\">\n",
    "\n",
    "Breakpoints in Bootstrap 5 are predefined screen widths that help you create responsive designs for various devices like smartphones, tablets, and desktops. "
   ]
  },
  {
   "cell_type": "markdown",
   "metadata": {},
   "source": [
    "\n",
    "Bootstrap breakpoints are based on the minimum width of the viewport (to enable mobile-first responsive design) and are defined as follows:\n",
    "\n",
    "- `xs` (Extra small): <576px\n",
    "- `sm` (Small): ≥576px\n",
    "- `md` (Medium): ≥768px\n",
    "- `lg` (Large): ≥992px\n",
    "- `xl` (Extra large): ≥1200px\n",
    "- `xxl` (Extra extra large): ≥1400px\n",
    "\n"
   ]
  },
  {
   "cell_type": "markdown",
   "metadata": {},
   "source": [
    "Layout changes for specific breakpoints are invoked using class prefixes in your HTML markup. "
   ]
  },
  {
   "cell_type": "markdown",
   "metadata": {},
   "source": [
    "> **EXERCISE**: Learn more about breakpoints in Bootstrap here: https://getbootstrap.com/docs/5.3/layout/breakpoints/"
   ]
  },
  {
   "cell_type": "markdown",
   "metadata": {},
   "source": [
    "### Containers\n",
    "\n",
    "\n",
    "Containers are the most basic layout element in Bootstrap and are required when using Bootstrap's grid system. Containers are used to contain, pad, and (sometimes) center the content within them. While containers can be nested, most layouts do not require a nested container."
   ]
  },
  {
   "cell_type": "markdown",
   "metadata": {},
   "source": [
    "Bootstrap comes with three different containers:\n",
    "\n",
    "- `.container`, which sets a max-width at each responsive breakpoint\n",
    "\n",
    "\n",
    "- `.container-{breakpoint}`, which is width: 100% until the specified breakpoint\n",
    "\n",
    "\n",
    "- `.container-fluid`, which is width: 100% at all breakpoints\n",
    "\n",
    "\n",
    "<img src=\"https://i.imgur.com/555M04g.png\" width=\"480\">"
   ]
  },
  {
   "cell_type": "markdown",
   "metadata": {},
   "source": [
    "> **EXERCISE**: Create containers of height `200px` with each of the above classes and observe how they change behave has you resize the browser's width using Device Mode on Chrome. Learn more here: https://getbootstrap.com/docs/5.3/layout/containers/"
   ]
  },
  {
   "cell_type": "markdown",
   "metadata": {},
   "source": [
    "### Grid System\n",
    "\n",
    "<img src=\"https://i.imgur.com/JQS1Yci.png\" width=\"480\">\n",
    "\n",
    "Bootstrap provides a 12-column grid system that is based on flexbox and utilizes class prefixes to control the layout of your content at different breakpoints. The grid system consists of containers, rows, and columns.\n",
    "\n",
    "\n",
    "- `.row`: A row is a horizontal grouping of columns. It should be placed inside a container.\n",
    "\n",
    "\n",
    "- `.col-*`: Columns are the direct children of a row and are defined using the `.col-*` class, where * represents the number of columns you want the element to span for specific breakpoints.\n"
   ]
  },
  {
   "cell_type": "markdown",
   "metadata": {},
   "source": [
    "```html\n",
    "\n",
    "<div class=\"container\">\n",
    "  <div class=\"row\">\n",
    "    <div class=\"col-12 col-md-6 col-lg-4\">Column 1</div>\n",
    "    <div class=\"col-12 col-md-6 col-lg-4\">Column 2</div>\n",
    "    <div class=\"col-12 col-md-12 col-lg-4\">Column 3</div>\n",
    "  </div>\n",
    "</div>\n",
    "\n",
    "```"
   ]
  },
  {
   "cell_type": "markdown",
   "metadata": {},
   "source": [
    "\n",
    "\n",
    "In this example, the layout behaves as follows:\n",
    "\n",
    "- On `xs` screens (<576px), all columns take up the full row width.\n",
    "\n",
    "\n",
    "- On `md` screens (≥768px) and above, Columns 1 and 2 take up half the row width each, while Column 3 takes up the full row width.\n",
    "\n",
    "\n",
    "- On `lg` screens (≥992px) and above, all three columns take up one-third of the row width each.\n",
    "\n",
    "\n",
    "Can you guess what happens if you don't have a `div` with the class `row` wrapping the columns?"
   ]
  },
  {
   "cell_type": "markdown",
   "metadata": {},
   "source": [
    "> **EXERCISES**: Learn more and experiment with Bootstrap's grid system using the following resources:\n",
    "> \n",
    "> 1. https://getbootstrap.com/docs/5.3/layout/grid/\n",
    ">\n",
    ">\n",
    "> 2. https://getbootstrap.com/docs/5.3/examples/grid/\n",
    ">\n",
    "> Try out various combinations of containers, columns, and breakpoint prefixes and observer their behavior."
   ]
  },
  {
   "cell_type": "markdown",
   "metadata": {},
   "source": [
    "### Offsets"
   ]
  },
  {
   "cell_type": "markdown",
   "metadata": {},
   "source": [
    "Offsets are useful when you want to add some empty space before a column. You can apply an offset using the `.offset-*` class, where * represents the number of columns you want to leave empty for specific breakpoints.\n",
    "\n"
   ]
  },
  {
   "cell_type": "markdown",
   "metadata": {},
   "source": [
    "```html\n",
    "\n",
    "<div class=\"container\">\n",
    "  <div class=\"row\">\n",
    "    <div class=\"col-6 offset-3\">Column 1 (6 columns wide, with 3 columns offset)</div>\n",
    "  </div>\n",
    "</div>\n",
    "\n",
    "```"
   ]
  },
  {
   "cell_type": "markdown",
   "metadata": {},
   "source": [
    "In this example, Column 1 spans 6 columns and has a 3-column offset, which means it is centered in the row."
   ]
  },
  {
   "cell_type": "markdown",
   "metadata": {},
   "source": [
    "> **EXERCISE**: Learn more about offsets in bootstrap here: https://getbootstrap.com/docs/5.3/layout/columns/"
   ]
  },
  {
   "cell_type": "markdown",
   "metadata": {},
   "source": [
    "### Gutters"
   ]
  },
  {
   "cell_type": "markdown",
   "metadata": {},
   "source": [
    "Gutters are the spaces between columns and rows in the grid system. In Bootstrap 5, gutters are controlled using CSS variables and are customizable. You can modify the gutter size using the `g-*` class on the `.row` element, where * represents a number from 0 to 5."
   ]
  },
  {
   "cell_type": "markdown",
   "metadata": {},
   "source": [
    "```html\n",
    "\n",
    "<div class=\"container\">\n",
    "  <div class=\"row g-3\">\n",
    "    <div class=\"col-6\">Column 1</div>\n",
    "    <div class=\"col-6\">Column 2</div>\n",
    "  </div>\n",
    "</div>\n",
    "\n",
    "```"
   ]
  },
  {
   "cell_type": "markdown",
   "metadata": {},
   "source": [
    "In this example, we have a row with a gutter size of 3 between the columns. \n",
    "\n",
    "\n"
   ]
  },
  {
   "cell_type": "markdown",
   "metadata": {},
   "source": [
    "> **EXERCISES**: \n",
    ">\n",
    "> - Can you guess what happens if you add a few more columns above? \n",
    "> \n",
    ">\n",
    "> - Can you control the size of horizontal and vertical gutters independently? \n",
    ">\n",
    ">\n",
    "> - Learn more about gutters in bootstrap here: https://getbootstrap.com/docs/5.3/layout/gutters/"
   ]
  },
  {
   "cell_type": "markdown",
   "metadata": {},
   "source": [
    "## Bootstrap Utility Classes"
   ]
  },
  {
   "cell_type": "markdown",
   "metadata": {},
   "source": [
    "Utility classes in Bootstrap 5  are single-purpose, reusable classes that can help you quickly style and modify elements in your project. These classes cover various aspects of styling, including spacing, text, backgrounds, and more."
   ]
  },
  {
   "cell_type": "markdown",
   "metadata": {},
   "source": [
    "### Spacing Utilities\n",
    "\n",
    "Bootstrap 5 provides utility classes for quickly applying margins and paddings to your elements. The syntax for these classes is as follows:\n",
    "\n",
    "`[property][sides]-[size]`\n",
    "\n",
    "\n",
    "- `property`: `m` for margin or `p` for padding.\n",
    "\n",
    "- `sides`: `t` (top), `b` (bottom), `l` (left), `r` (right), `x` (left and right), `y` (top and bottom), or an empty value (all sides).\n",
    "\n",
    "- `size`: A number from 0 to 5, where 0 means no margin/padding, and 5 is the largest margin/padding.\n",
    "\n",
    "\n",
    "Example:\n",
    "\n",
    "```html\n",
    "\n",
    "<div class=\"mt-3 mb-2\">This div has a top margin of 3 and a bottom margin of 2.</div>\n",
    "<div class=\"p-4\">This div has padding on all sides, with a size of 4.</div>\n",
    "\n",
    "```"
   ]
  },
  {
   "cell_type": "markdown",
   "metadata": {},
   "source": [
    "### Text Utilities\n",
    "\n",
    "Bootstrap provides various utility classes for styling text, such as font-weight, font-style, and text alignment.\n",
    "\n",
    "Example:\n",
    "\n",
    "\n",
    "```html\n",
    "\n",
    "<p class=\"fw-bold\">This text is bold.</p>\n",
    "<p class=\"fst-italic\">This text is italic.</p>\n",
    "<p class=\"text-center\">This text is centered.</p>\n",
    "\n",
    "```"
   ]
  },
  {
   "cell_type": "markdown",
   "metadata": {},
   "source": [
    "### Background Utilities\n",
    "\n",
    "You can apply background colors using Bootstrap's predefined color classes: primary, secondary, success, danger, warning, info, light, dark, and white.\n",
    "\n",
    "Example:\n",
    "\n",
    "\n",
    "```html\n",
    "\n",
    "<div class=\"bg-primary text-white\">This div has a primary background color and white text.</div>\n",
    "\n",
    "```"
   ]
  },
  {
   "cell_type": "markdown",
   "metadata": {},
   "source": [
    "### Display Utilities\n",
    "\n",
    "Bootstrap 5 provides utility classes for controlling the display property of elements, such as block, inline, inline-block, flex, and more.\n",
    "\n",
    "\n",
    "Example:\n",
    "\n",
    "\n",
    "```html\n",
    "\n",
    "<span class=\"d-inline-block\">This span is an inline-block element.</span>\n",
    "<div class=\"d-flex\">This div is a flex container.</div>\n",
    "\n",
    "\n",
    "```"
   ]
  },
  {
   "cell_type": "markdown",
   "metadata": {},
   "source": [
    "### Flex Utilities\n",
    "\n",
    "Bootstrap 5 includes numerous flexbox utilities that help you quickly adjust the layout of your flex containers and items.\n",
    "\n",
    "\n",
    "Example:\n",
    "\n",
    "\n",
    "```html\n",
    "\n",
    "<div class=\"d-flex justify-content-center align-items-center\">This div is a centered flex container.</div>\n",
    "\n",
    "```"
   ]
  },
  {
   "cell_type": "markdown",
   "metadata": {},
   "source": [
    "> **EXERCISE**: Create a simple layout using Bootstrap 5 utility classes:\n",
    "> \n",
    "> 1. Create a container with three equal-width columns.\n",
    "> 2. Set the top and bottom padding of each column to size 3.\n",
    "> 3. Apply a different background color to each column and ensure the text inside is white.\n",
    "> 4. Center the text horizontally and vertically within the columns.\n",
    ">\n",
    "> Learn more and experiment with utility classes here: https://getbootstrap.com/docs/5.3/utilities/display/"
   ]
  },
  {
   "cell_type": "markdown",
   "metadata": {},
   "source": [
    "## Bootstrap Components\n",
    "\n",
    "<img src=\"https://i.imgur.com/RcmDOvM.png\" width=\"420\">\n",
    "\n",
    "Bootstrap offers a wide range of pre-built components designed to streamline the development of responsive, mobile-first web projects. These components provide a solid foundation for creating visually appealing and highly functional websites."
   ]
  },
  {
   "cell_type": "markdown",
   "metadata": {},
   "source": [
    "Some of the key Bootstrap components include:\n",
    "\n",
    "1. **Navigation Components**: Bootstrap offers various navigation components like Navbar, Breadcrumbs, and Pagination to simplify the creation of site navigation, enhancing user experience across devices.\n",
    "\n",
    "\n",
    "2. **Layout Components**: Components like Cards, List Groups, and Media Objects enable developers to create flexible, responsive content layouts that adapt seamlessly to different screen sizes and resolutions.\n",
    "\n",
    "\n",
    "3. **Form Components**: Bootstrap includes a comprehensive suite of form components, such as Input Groups, Checkboxes, Radio Buttons, and Select Menus, which make it easy to create and style user input forms.\n",
    "\n",
    "\n",
    "4. **Modal Components**: Modal windows, Dropdowns, and Tooltips are essential components for displaying additional content or notifications on a webpage without navigating away from the current view.\n",
    "\n",
    "\n",
    "5. **Utility Components**: Bootstrap offers numerous utility components such as Alerts, Badges, and Progress Bars, which help developers create meaningful user interfaces that convey important information or highlight specific elements.\n",
    "\n",
    "\n",
    "6. **Interactive Components**: Carousels, Accordions, and Tabs are interactive components that enable developers to create dynamic and engaging web experiences without the need for extensive custom coding.\n",
    "\n",
    "\n",
    "You can view the various components offered by Bootstrap here: https://getbootstrap.com/docs/5.3/components/\n",
    "\n",
    "Bootstrap also provides severals examples showing how components can be used with layout & utility classes: https://getbootstrap.com/docs/5.3/examples/"
   ]
  },
  {
   "cell_type": "markdown",
   "metadata": {},
   "source": [
    "Let's redesign the Jovian careers website step by step using Bootstrap components, as mentioned in the problem statement.\n",
    "\n",
    "> **PROBLEM**: Rebuild the [Jovian Careers website](https://jovian-careers-responsive.vercel.app/) created in the [previous tutorial](https://jovian.com/aakashns/responsive-design-and-css-flexbox) using the Boostrap CSS framework. Make the following changes: \n",
    ">\n",
    ">\n",
    "> 1. Add some links in the navigation bar, and show a collapsible menu on mobile devices. \n",
    ">\n",
    ">\n",
    "> 2. Show the list of jobs using cards on mobile and a table on desktop devices. \n",
    ">\n",
    ">\n",
    "> 3. Make the color scheme, typography, and layout consistent and aesthetically pleasing.\n"
   ]
  },
  {
   "cell_type": "markdown",
   "metadata": {},
   "source": [
    "### Navbar\n",
    "\n",
    "Bootstrap's Navbar component can be used to build powerful, responsive navigation bars. You can check out some examples here: https://getbootstrap.com/docs/5.3/components/navbar/ . \n",
    "\n",
    "> **NOTE**: Whenever you copy over examples from Bootstrap's documentation into your code, make sure to understand the purpose of each HTML element and CSS utility class by inspecting them using your browser's developer tools. Understanding what they do is essential for modifying them to achieve a desired layout."
   ]
  },
  {
   "cell_type": "markdown",
   "metadata": {},
   "source": [
    "\n",
    "With a slight modification to one of the examples, we can create the following navbar for our site:\n",
    "\n",
    "\n",
    "```html\n",
    "\n",
    "<nav class=\"navbar navbar-expand-md shadow-sm\">\n",
    "  <div class=\"container-fluid\">\n",
    "    <a class=\"navbar-brand\" href=\"/\">\n",
    "      <img\n",
    "        id=\"logo\"\n",
    "        alt=\"Jovian Logo\"\n",
    "        src=\"https://i.imgur.com/JRA5Q8a.png\"\n",
    "        height=\"30\"\n",
    "        class=\"d-md-none\"\n",
    "      />\n",
    "      <img\n",
    "        id=\"logo-with-text\"\n",
    "        alt=\"Jovian Logo\"\n",
    "        src=\"https://i.imgur.com/m1wXjqw.png\"\n",
    "        height=\"30\"\n",
    "        class=\"d-none d-md-inline\"\n",
    "      />\n",
    "    </a>\n",
    "    <button\n",
    "      class=\"navbar-toggler\"\n",
    "      type=\"button\"\n",
    "      data-bs-toggle=\"collapse\"\n",
    "      data-bs-target=\"#navbarSupportedContent\"\n",
    "      aria-controls=\"navbarSupportedContent\"\n",
    "      aria-expanded=\"false\"\n",
    "      aria-label=\"Toggle navigation\"\n",
    "    >\n",
    "      <span class=\"navbar-toggler-icon\"></span>\n",
    "    </button>\n",
    "\n",
    "    <div\n",
    "      class=\"collapse navbar-collapse justify-content-end\"\n",
    "      id=\"navbarSupportedContent\"\n",
    "    >\n",
    "      <ul class=\"navbar-nav\">\n",
    "        <li class=\"nav-item\">\n",
    "          <a\n",
    "            class=\"nav-link active\"\n",
    "            aria-current=\"page\"\n",
    "            target=\"_blank\"\n",
    "            href=\"https://jovian.com/learn\"\n",
    "          >\n",
    "            Courses\n",
    "          </a>\n",
    "        </li>\n",
    "        <li class=\"nav-item\">\n",
    "          <a\n",
    "            class=\"nav-link\"\n",
    "            href=\"https://jovian.com/learn\"\n",
    "            target=\"_blank\"\n",
    "          >\n",
    "            Programs\n",
    "          </a>\n",
    "        </li>\n",
    "        <li class=\"nav-item\">\n",
    "          <a\n",
    "            class=\"nav-link\"\n",
    "            href=\"https://youtube.com/@jovianhq\"\n",
    "            target=\"_blank\"\n",
    "          >\n",
    "            YouTube\n",
    "          </a>\n",
    "        </li>\n",
    "        <li class=\"nav-item\">\n",
    "          <a\n",
    "            class=\"btn btn-primary ms-md-2\"\n",
    "            href=\"https://jovian.com/login\"\n",
    "            role=\"button\"\n",
    "            target=\"_blank\"\n",
    "          >\n",
    "            Sign In\n",
    "          </a>\n",
    "        </li>\n",
    "      </ul>\n",
    "    </div>\n",
    "  </div>\n",
    "</nav>\n",
    "```"
   ]
  },
  {
   "cell_type": "markdown",
   "metadata": {},
   "source": [
    "This results in a collapsible navbar on mobile and an expanded navbar on desktop:\n",
    "\n",
    "![](https://i.imgur.com/wSckCat.png)"
   ]
  },
  {
   "cell_type": "markdown",
   "metadata": {},
   "source": [
    "### Hero Section\n",
    "\n",
    "Bootstrap also provides various examples for specific sections. Check out some of them here: https://getbootstrap.com/docs/5.3/examples/heroes/\n",
    "\n",
    "**TIP**: You can inspect an example using the browser developer tools and right click to copy the entire element as HTML.\n",
    "\n",
    "<img src=\"https://i.imgur.com/Eys49pb.jpg\" width=\"480\">"
   ]
  },
  {
   "cell_type": "markdown",
   "metadata": {},
   "source": [
    "We can use the following HTML code for the \"About Jovian\" section:\n",
    "\n",
    "\n",
    "```html\n",
    "\n",
    "<div class=\"container px-4\">\n",
    "  <div class=\"row flex-lg-row-reverse align-items-center g-4 py-4\">\n",
    "    <div class=\"col-12 col-lg-6\">\n",
    "      <img\n",
    "        src=\"https://i.imgur.com/sxbxff5.jpg\"\n",
    "        class=\"d-block mx-lg-auto img-fluid rounded\"\n",
    "        loading=\"lazy\"\n",
    "      />\n",
    "    </div>\n",
    "    <div class=\"col-lg-6\">\n",
    "      <h1\n",
    "        class=\"display-4 fw-bold text-body-emphasis lh-1 mb-3 text-center d-lg-none\"\n",
    "      >\n",
    "        Work at Jovian\n",
    "      </h1>\n",
    "      <h1\n",
    "        class=\"display-5 fw-bold text-body-emphasis lh-1 mb-3 d-none d-lg-block\"\n",
    "      >\n",
    "        Work at Jovian\n",
    "      </h1>\n",
    "      <p class=\"lead\">\n",
    "        At Jovian, we're on a mission to build the world's most highly\n",
    "        reputed technical university, and we're building it completely\n",
    "        online. We offer several beginner friendly courses that are taken by\n",
    "        300,000+ registered users.\n",
    "      </p>\n",
    "      <p class=\"lead\">We also offer 2 industry-focused bootcamps:</p>\n",
    "      <ol class=\"lead\">\n",
    "        <li>\n",
    "          <a href=\"https://www.jovian.com/full-stack-developer-bootcamp\">\n",
    "            Jovian Full Stack Developer Bootcamp\n",
    "          </a>\n",
    "        </li>\n",
    "        <li>\n",
    "          <a href=\"https://www.jovian.com/data-science-bootcamp\">\n",
    "            Jovian Data Science Bootcamp\n",
    "          </a>\n",
    "        </li>\n",
    "      </ol>\n",
    "    </div>\n",
    "  </div>\n",
    "</div>\n",
    "\n",
    "```"
   ]
  },
  {
   "cell_type": "markdown",
   "metadata": {},
   "source": [
    "**NOTE**: We've used this image for the team photo: https://i.imgur.com/sxbxff5.jpg"
   ]
  },
  {
   "cell_type": "markdown",
   "metadata": {},
   "source": [
    "This results in a responsive \"About Jovian\" section:\n",
    "\n",
    "<img src=\"https://i.imgur.com/L816pXS.png\" width=\"480\">"
   ]
  },
  {
   "cell_type": "markdown",
   "metadata": {},
   "source": [
    "> **EXERCISE**: Try out other variations of the hero section by studying the examples on this page: https://getbootstrap.com/docs/5.3/examples/heroes/"
   ]
  },
  {
   "cell_type": "markdown",
   "metadata": {},
   "source": [
    "### Jobs List (Mobile)"
   ]
  },
  {
   "cell_type": "markdown",
   "metadata": {},
   "source": [
    "We can use the [Card component](https://getbootstrap.com/docs/5.3/components/card/) from Bootstrap to show a list of job cards on small screens."
   ]
  },
  {
   "cell_type": "markdown",
   "metadata": {},
   "source": [
    "We can use the following HTML code to create a list of job cards:\n",
    "\n",
    "\n",
    "```html\n",
    "\n",
    "<div class=\"container px-4 mt-5\">\n",
    "  <h2 class=\"text-center mb-4\">Job Opportunities</h2>\n",
    "\n",
    "  <!--JOBS LIST-->\n",
    "  <div class=\"d-md-none\">\n",
    "    <div class=\"card mb-3\">\n",
    "      <div class=\"card-body\">\n",
    "        <h5 class=\"card-title\">Frontend Developer</h5>\n",
    "        <h6 class=\"card-subtitle my-1 text-body-secondary\">\n",
    "          Bengaluru, India • ₹ 12,00,000\n",
    "        </h6>\n",
    "        <small class=\"card-text text-body-secondary\">\n",
    "          Posted Mar 3, 2023\n",
    "        </small>\n",
    "      </div>\n",
    "    </div>\n",
    "\n",
    "    <div class=\"card my-4\">\n",
    "      <div class=\"card-body\">\n",
    "        <h5 class=\"card-title\">Full Stack Developer</h5>\n",
    "        <h6 class=\"card-subtitle my-1 text-body-secondary\">\n",
    "          New Delhi, India • ₹ 12,00,000\n",
    "        </h6>\n",
    "        <small class=\"card-text text-body-secondary\">\n",
    "          Posted Feb 1, 2023\n",
    "        </small>\n",
    "      </div>\n",
    "    </div>\n",
    "\n",
    "    <div class=\"card mb-3\">\n",
    "      <div class=\"card-body\">\n",
    "        <h5 class=\"card-title\">Data Scientist</h5>\n",
    "        <h6 class=\"card-subtitle my-1 text-body-secondary\">\n",
    "          San Francisco, USA • $175,000\n",
    "        </h6>\n",
    "        <small class=\"card-text text-body-secondary\">\n",
    "          Posted Dec 22, 2022\n",
    "        </small>\n",
    "      </div>\n",
    "    </div>\n",
    "\n",
    "    <div class=\"card mb-3\">\n",
    "      <div class=\"card-body\">\n",
    "        <h5 class=\"card-title\">ML Engineer</h5>\n",
    "        <h6 class=\"card-subtitle my-1 text-body-secondary\">\n",
    "          Remote • $80,000\n",
    "        </h6>\n",
    "        <small class=\"card-text text-body-secondary\">\n",
    "          Posted Sep 19, 2022\n",
    "        </small>\n",
    "      </div>\n",
    "    </div>\n",
    "  </div>\n",
    "    \n",
    "  <!--Add Jobs Table Here-->\n",
    "\n",
    "</div>\n",
    "```"
   ]
  },
  {
   "cell_type": "markdown",
   "metadata": {},
   "source": [
    "This results in the following layout on small screens: \n",
    "\n",
    "<img src=\"https://i.imgur.com/n1z85B6.png\" width=\"420\">"
   ]
  },
  {
   "cell_type": "markdown",
   "metadata": {},
   "source": [
    "> **EXERCISE**: Learn more and experiment with Bootstrap's card component here: https://getbootstrap.com/docs/5.3/components/card/"
   ]
  },
  {
   "cell_type": "markdown",
   "metadata": {},
   "source": [
    "### Jobs Table (Desktop)"
   ]
  },
  {
   "cell_type": "markdown",
   "metadata": {},
   "source": [
    "We can add the following code to show the jobs table on tablets and desktops:\n",
    "\n",
    "\n",
    "```html\n",
    "\n",
    "<div class=\"offset-lg-2 col-lg-8\">\n",
    "    <table class=\"d-none d-md-table table table-striped table-bordered\">\n",
    "      <tr class=\"table-primary text-center\">\n",
    "        <th rowspan=\"2\">Job Title</th>\n",
    "        <th colspan=\"2\">Location</th>\n",
    "        <th rowspan=\"2\">Salary</th>\n",
    "        <th rowspan=\"2\">Posted On</th>\n",
    "      </tr>\n",
    "      <tr class=\"table-primary text-center\">\n",
    "        <th>City</th>\n",
    "        <th>Country</th>\n",
    "      </tr>\n",
    "      <tr>\n",
    "        <td>Frontend Developer</td>\n",
    "        <td>Bengaluru</td>\n",
    "        <td>India</td>\n",
    "        <td>₹12,00,000</td>\n",
    "        <td>Mar 3, 2023</td>\n",
    "      </tr>\n",
    "\n",
    "      <tr>\n",
    "        <td>Full Stack Developer</td>\n",
    "        <td>New Delhi</td>\n",
    "        <td>India</td>\n",
    "        <td>₹15,00,000</td>\n",
    "        <td>Feb 1, 2023</td>\n",
    "      </tr>\n",
    "\n",
    "      <tr>\n",
    "        <td>Data Scientist</td>\n",
    "        <td>San Francisco</td>\n",
    "        <td>USA</td>\n",
    "        <td>$175,000</td>\n",
    "        <td>Dec 22, 2022</td>\n",
    "      </tr>\n",
    "\n",
    "      <tr>\n",
    "        <td>ML Engineer</td>\n",
    "        <td colspan=\"2\">Remote</td>\n",
    "        <td>$80,000</td>\n",
    "        <td>Sep 19, 2022</td>\n",
    "      </tr>\n",
    "    </table>\n",
    "</div>\n",
    "\n",
    "\n",
    "```"
   ]
  },
  {
   "cell_type": "markdown",
   "metadata": {},
   "source": [
    "This results in the following table being shown:\n",
    "\n",
    "<img src=\"https://i.imgur.com/dXz9lav.png\" width=\"640\">"
   ]
  },
  {
   "cell_type": "markdown",
   "metadata": {},
   "source": [
    "> **EXERCISE**: Learn more about customizing tables using Bootstrap classes here: https://getbootstrap.com/docs/5.3/content/tables/"
   ]
  },
  {
   "cell_type": "markdown",
   "metadata": {},
   "source": [
    "### Application Form"
   ]
  },
  {
   "cell_type": "markdown",
   "metadata": {},
   "source": [
    "<img src=\"https://i.imgur.com/1fdkYmF.png\" width=\"420\">\n",
    "\n",
    "\n",
    "Bootstrap offers an extensive suite of pre-built form components designed to simplify the process of creating responsive, mobile-first web forms. The form components in Bootstrap ensure a consistent and professional appearance across various devices and browsers, while also providing a solid foundation for customization and validation."
   ]
  },
  {
   "cell_type": "markdown",
   "metadata": {},
   "source": [
    "We can use the following HTML for the application form: \n",
    "\n",
    "```html\n",
    "<!--APPLICATION FORM-->\n",
    "<div class=\"container px-4\">\n",
    "  <h2 class=\"text-center mb-4\">Submit Your Application</h2>\n",
    "  <form\n",
    "    class=\"offset-lg-2 col-lg-8\"\n",
    "    action=\"https://formbold.com/s/3wvKl\"\n",
    "    method=\"POST\"\n",
    "    enctype=\"multipart/form-data\"\n",
    "  >\n",
    "    <!--NAME-->\n",
    "    <div class=\"mb-3 col-sm-6\">\n",
    "      <label for=\"fullname\" class=\"form-label\"> Full Name </label>\n",
    "      <input\n",
    "        type=\"text\"\n",
    "        class=\"form-control\"\n",
    "        name=\"name\"\n",
    "        required\n",
    "        placeholder=\"John Doe\"\n",
    "        id=\"fullname\"\n",
    "      />\n",
    "    </div>\n",
    "\n",
    "    <!--EMAIL-->\n",
    "    <div class=\"mb-3 col-sm-6\">\n",
    "      <label for=\"email\" class=\"form-label\"> Email address </label>\n",
    "      <input\n",
    "        type=\"email\"\n",
    "        class=\"form-control\"\n",
    "        name=\"email\"\n",
    "        placeholder=\"john@doe.com\"\n",
    "        id=\"email\"\n",
    "        aria-describedby=\"emailHelp\"\n",
    "        required\n",
    "      />\n",
    "      <div id=\"emailHelp\" class=\"form-text\">\n",
    "        We'll never share your email with anyone else.\n",
    "      </div>\n",
    "    </div>\n",
    "\n",
    "    <!--PHONE-->\n",
    "    <div class=\"mb-3 col-sm-6\">\n",
    "      <label for=\"phone\" class=\"form-label\">Phone</label>\n",
    "      <input\n",
    "        type=\"tel\"\n",
    "        class=\"form-control\"\n",
    "        id=\"phone\"\n",
    "        placeholder=\"+919898989898\"\n",
    "        name=\"phone\"\n",
    "        required\n",
    "      />\n",
    "    </div>\n",
    "\n",
    "    <!--DOB-->\n",
    "    <div class=\"mb-3 col-sm-6\">\n",
    "      <label for=\"dob\" class=\"form-label\">Date of Birth</label>\n",
    "      <input\n",
    "        type=\"date\"\n",
    "        class=\"form-control\"\n",
    "        id=\"phone\"\n",
    "        name=\"phone\"\n",
    "        required\n",
    "      />\n",
    "    </div>\n",
    "\n",
    "    <!--POSITION-->\n",
    "    <div class=\"mb-3 col-sm-6\">\n",
    "      <label for=\"position\" class=\"form-label\">Position Applied For</label>\n",
    "      <select class=\"form-select\" aria-label=\"Default select example\">\n",
    "        <option selected value=\"\">Select a position</option>\n",
    "        <option value=\"frontend developer\">Frontend Developer</option>\n",
    "        <option value=\"full stack developer\">Full Stack Developer</option>\n",
    "        <option value=\"data scientist\">Data Scientist</option>\n",
    "        <option value=\"ml engineer \">ML Engineer</option>\n",
    "      </select>\n",
    "    </div>\n",
    "\n",
    "    <!--RESUME-->\n",
    "    <div class=\"mb-3 col-sm-6\">\n",
    "      <label for=\"resume\" class=\"form-label\">Upload Resume</label>\n",
    "      <input\n",
    "        type=\"file\"\n",
    "        class=\"form-control\"\n",
    "        id=\"resume\"\n",
    "        name=\"resume\"\n",
    "        required\n",
    "      />\n",
    "    </div>\n",
    "\n",
    "    <!--COVER LETTER-->\n",
    "    <div class=\"mb-3\">\n",
    "      <label for=\"resume\" class=\"form-label\">Cover Letter</label>\n",
    "      <textarea\n",
    "        placeholder=\"Why should we consider you for the job?\"\n",
    "        class=\"form-control\"\n",
    "        id=\"resume\"\n",
    "        name=\"resume\"\n",
    "        rows=\"5\"\n",
    "        required\n",
    "      ></textarea>\n",
    "    </div>\n",
    "\n",
    "    <!--TERMS-->\n",
    "    <div class=\"mb-3 form-check\">\n",
    "      <input type=\"checkbox\" class=\"form-check-input\" id=\"terms\" />\n",
    "      <label class=\"form-check-label\" for=\"terms\"\n",
    "        >I agree to the terms and coditions.</label\n",
    "      >\n",
    "    </div>\n",
    "\n",
    "    <!--SUBMIT BUTTON-->\n",
    "    <button type=\"submit\" class=\"btn btn-primary\">\n",
    "      Submit Application\n",
    "    </button>\n",
    "  </form>\n",
    "</div>\n",
    "\n",
    "```"
   ]
  },
  {
   "cell_type": "markdown",
   "metadata": {},
   "source": [
    "The above code produces the following form:\n",
    "\n",
    "<img src=\"https://i.imgur.com/ogZNEfA.png\" width=\"480\">"
   ]
  },
  {
   "cell_type": "markdown",
   "metadata": {},
   "source": [
    "> **EXERCISE**: Learn and experiments with form elements in Bootstrap here: https://getbootstrap.com/docs/5.3/forms/overview/"
   ]
  },
  {
   "cell_type": "markdown",
   "metadata": {},
   "source": [
    "### Footer"
   ]
  },
  {
   "cell_type": "markdown",
   "metadata": {},
   "source": [
    "Bootstrap contains several example footers here: https://getbootstrap.com/docs/5.3/examples/"
   ]
  },
  {
   "cell_type": "markdown",
   "metadata": {},
   "source": [
    "We can use the following HTML code to create the footer:\n",
    "\n",
    "\n",
    "```html\n",
    "<div class=\"container\">\n",
    "  <footer class=\"py-3 my-4\">\n",
    "    <ul class=\"nav justify-content-center border-top pt-3 mb-3\">\n",
    "      <li class=\"nav-item\">\n",
    "        <a href=\"#\" class=\"nav-link px-2 text-body-secondary\">Courses</a>\n",
    "      </li>\n",
    "      <li class=\"nav-item\">\n",
    "        <a href=\"#\" class=\"nav-link px-2 text-body-secondary\">Programs</a>\n",
    "      </li>\n",
    "      <li class=\"nav-item\">\n",
    "        <a href=\"#\" class=\"nav-link px-2 text-body-secondary\">YouTube</a>\n",
    "      </li>\n",
    "      <li class=\"nav-item\">\n",
    "        <a href=\"#\" class=\"nav-link px-2 text-body-secondary\">Sign In</a>\n",
    "      </li>\n",
    "    </ul>\n",
    "    <p class=\"text-center text-body-secondary\">\n",
    "      © 2023 Jovian (SwiftAce Inc.)\n",
    "    </p>\n",
    "  </footer>\n",
    "</div>\n",
    "\n",
    "```"
   ]
  },
  {
   "cell_type": "markdown",
   "metadata": {},
   "source": [
    "This produces the following footer:\n",
    "\n",
    "![](https://i.imgur.com/By62T3X.png)"
   ]
  },
  {
   "cell_type": "markdown",
   "metadata": {},
   "source": [
    "> **EXERCISE**: Replace the page footer with one of the other examples included here: https://getbootstrap.com/docs/5.3/examples/"
   ]
  },
  {
   "cell_type": "markdown",
   "metadata": {},
   "source": [
    "## Deployment with Vercel\n",
    "\n",
    "We can now push our changes to GitHub. We'll deploy our site to the Vercel, that offers seamless integration with GitHub, allowing us to deploy their projects directly from their repositories.\n",
    "\n",
    "\n",
    "\n",
    "<img src=\"https://i.imgur.com/ZDm8YUZ.png\" width=\"360\">\n",
    "\n",
    "Follow these steps to deploy the website to Vercel:\n",
    "\n",
    "\n",
    "1. Go to https://vercel.com and sign up for an account. You can use your GitHub account to sign up or create a new account using your email address.\n",
    "\n",
    "\n",
    "2. Once you have signed up, you will be taken to the Vercel dashboard. From here, you can start a new project by clicking the \"New Project\" button.\n",
    "\n",
    "\n",
    "3. Choose the repository you want to deploy. Vercel supports GitHub, GitLab, and Bitbucket repositories. Select the repository and the branch you want to deploy.\n",
    "\n",
    "\n",
    "4. Select the project root folder (in this case, it is the `src` folder) and click \"Deploy\" to deploy the project.\n",
    "\n",
    "\n",
    "\n",
    "Vercel will build your project and deploy it to its cloud platform. "
   ]
  },
  {
   "cell_type": "markdown",
   "metadata": {},
   "source": [
    "Here's what the deployed site looks like on desktop screens:\n",
    "\n",
    "<img src=\"https://i.imgur.com/wK959Wc.png\" width=\"640\">"
   ]
  },
  {
   "cell_type": "markdown",
   "metadata": {},
   "source": [
    "Here's how it looks on mobile devices (with the nav menu expanded):\n",
    "\n",
    "\n",
    "<img src=\"https://i.imgur.com/tsMv6np.png\" width=\"320\">"
   ]
  },
  {
   "cell_type": "markdown",
   "metadata": {},
   "source": [
    "## Summary and References"
   ]
  },
  {
   "cell_type": "markdown",
   "metadata": {},
   "source": [
    "The following topics were covered in this tutorial:\n",
    "\n",
    "\n",
    "\n",
    "- Installing Bootstrap's CSS and JavaScript bundles into a web development project\n",
    "\n",
    "\n",
    "- Modifying Bootstrap's default colors & typography using CSS variables & custom selectors\n",
    "\n",
    "\n",
    "- Using Bootstrap's breakpoints and grid system for creating mobile-first responsive web pages\n",
    "\n",
    "\n",
    "- Leveraging Bootstrap's utility classes for applying layout & style changes without writing CSS\n",
    "\n",
    "\n",
    "- Using Bootstrap's prebuilt components and examples for building a web page quickly & efficiently\n"
   ]
  },
  {
   "cell_type": "markdown",
   "metadata": {},
   "source": [
    "The code for this tutorial can be found here:\n",
    "\n",
    "\n",
    "- Completed code: https://github.com/sydney-jovian/jovian-careers-bootstrap\n",
    "\n",
    "\n",
    "- Finished site: https://jovian-careers-bootstrap.vercel.app/"
   ]
  },
  {
   "cell_type": "markdown",
   "metadata": {},
   "source": [
    "Check out these resources to learn more:\n",
    "\n",
    "\n",
    "1. [Official Bootstrap Documentation](https://getbootstrap.com/docs/5.1/getting-started/introduction/): Comprehensive guide to Bootstrap 5, covering all components and features.\n",
    "\n",
    "\n",
    "2. [Bootstrap 5 Crash Course by Traversy Media](https://www.youtube.com/watch?v=4sosXZsdy-s): A video tutorial providing a hands-on introduction to Bootstrap 5 and its new features.\n",
    "\n",
    "\n",
    "3. [Bootstrap 5 Tutorial by w3schools](https://www.w3schools.com/bootstrap5/): An extensive, step-by-step tutorial covering various aspects of Bootstrap 5.\n",
    "\n",
    "\n",
    "4. [Bootstrap 5 Cheatsheet by BootstrapCreative](https://bootstrapcreative.com/resources/bootstrap-5-cheat-sheet-classes-index/): A cheatsheet showcasing Bootstrap 5 components and their usage.\n",
    "\n",
    "\n",
    "5. [Bootstrap 5 Tutorial by TutorialRepublic](https://www.tutorialrepublic.com/twitter-bootstrap-tutorial/): A comprehensive step-by-step tutorial covering everything Bootstrap 5 has to offer.\n"
   ]
  }
 ],
 "metadata": {
  "language_info": {
   "file_extension": ".js",
   "mimetype": "application/javascript",
   "name": "javascript",
   "version": "12.4.0"
  }
 },
 "nbformat": 4,
 "nbformat_minor": 2
}