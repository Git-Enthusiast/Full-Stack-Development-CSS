{
 "cells": [
  {
   "cell_type": "markdown",
   "metadata": {},
   "source": [
    "# Responsive Design and CSS Flexbox\n",
    "\n",
    "![](https://i.imgur.com/eq2tBIN.png)"
   ]
  },
  {
   "cell_type": "markdown",
   "metadata": {},
   "source": [
    "Responsive design is a crucial aspect of modern web development, ensuring that websites adapt gracefully to various screen sizes and devices. By utilizing responsive design principles, developers can efficiently build user-friendly and accessible websites that cater to diverse audiences across a multitude of devices."
   ]
  },
  {
   "cell_type": "markdown",
   "metadata": {},
   "source": [
    "The following topics are covered in this tutorial:\n",
    "\n",
    "\n",
    "- Using CSS media queries and breakpoints to implement mobile-first responsive web design\n",
    "\n",
    "\n",
    "- Leveraging the various properties offered by CSS flexbox to build fluid and dynamic layouts\n",
    "\n",
    "\n",
    "- Creating separate wireframes to determine the layout of a web page at various breakpoints\n",
    "\n",
    "\n",
    "- Implementing, testing, and deploying a responsive website using CSS media queries and flexbox\n",
    "\n",
    "\n",
    "\n",
    "The best way to learn these skills is to follow along step-by-step and type out all the code yourself. \n"
   ]
  },
  {
   "cell_type": "markdown",
   "metadata": {},
   "source": [
    "## Problem Statement & Setup\n",
    "\n",
    "<img src=\"https://i.imgur.com/4eCoxVm.png\" width=\"480\">\n",
    "\n",
    "\n",
    "We'll explore abovementioned topics by attempting to solve this problem statement:\n",
    "\n",
    "> **PROBLEM**: Make the following improvements to the [Jovian Careers Site](https://jovian-careers-site.vercel.app/) built in the [previous lesson](https://jovian.com/sydney/version-control-and-cloud-deployment):\n",
    "> \n",
    "> - Use different layouts different screen sizes to ensure the page shows up properly on any device\n",
    ">\n",
    ">\n",
    "> - Use CSS flexbox to make the layout fluid and ensure it adapts properly to any screen width\n",
    ">\n",
    ">\n",
    "> Set up a GitHub repository for the code and deploy the site to the cloud using Vercel.\n",
    "\n"
   ]
  },
  {
   "cell_type": "markdown",
   "metadata": {},
   "source": [
    "### Prerequisites\n",
    "\n",
    "This tutorials assumes knowledge of the following:\n",
    "\n",
    "- HTML and CSS basics \n",
    "- Version control with [GitHub](https://github.com)\n",
    "- Cloud deployment with [Vercel](https://vercel.com)"
   ]
  },
  {
   "cell_type": "markdown",
   "metadata": {},
   "source": [
    "### Source Code and Result\n",
    "\n",
    "\n",
    "The code for this tutorial can be found here:\n",
    "\n",
    "\n",
    "- Starter code: https://github.com/sydney-jovian/jovian-careers-site\n",
    "\n",
    "\n",
    "- Starter site: https://jovian-careers-site.vercel.app/\n",
    "\n",
    "\n",
    "- Completed code: https://github.com/sydney-jovian/jovian-careers-responsive\n",
    "\n",
    "\n",
    "- Finished site: https://jovian-careers-responsive.vercel.app/\n"
   ]
  },
  {
   "cell_type": "markdown",
   "metadata": {},
   "source": [
    "### Duplicating a GitHub Repository\n",
    "\n",
    "To work on this tutorial, we'll create a new repository containing a copy of the original repository, by following these steps:\n",
    "\n",
    "1. Create a new empty new repository on GitHub\n",
    "\n",
    "\n",
    "2. Make sure not to include a `README`, `.gitignore` or `LICENSE` file\n",
    "\n",
    "\n",
    "3. Press the \"Import Code\" option at the bottom of the page \n",
    "\n",
    "\n",
    "4. Provide the URL of the starter code repository to being the import\n",
    "\n",
    "\n",
    "<img src=\"https://i.imgur.com/MRiH9hN.png\" width=\"420\">\n",
    "\n",
    "\n",
    "In a few minutes, the code will be imported, and can start developing it on GitHub Codespaces or your computer.\n",
    "\n",
    "<img src=\"https://i.imgur.com/JYaE0CP.png\" width=\"420\">\n",
    "\n",
    "\n",
    "**NOTE**: A quick way to duplicate of someone else's repository is using the \"Fork\" button on the repository page. However, you cannot fork a repository you own. Learn more about forking here: https://docs.github.com/en/get-started/quickstart/fork-a-repo"
   ]
  },
  {
   "cell_type": "markdown",
   "metadata": {},
   "source": [
    "### Cloud Deployment with Vercel\n",
    "\n",
    "We'll deploy our site to the Vercel, that offers seamless integration with GitHub, allowing us to deploy their projects directly from their repositories.\n",
    "\n",
    "\n",
    "\n",
    "<img src=\"https://i.imgur.com/ZDm8YUZ.png\" width=\"360\">\n",
    "\n",
    "Follow these steps to deploy the website to Vercel:\n",
    "\n",
    "\n",
    "1. Go to https://vercel.com and sign up for an account. You can use your GitHub account to sign up or create a new account using your email address.\n",
    "\n",
    "\n",
    "2. Once you have signed up, you will be taken to the Vercel dashboard. From here, you can start a new project by clicking the \"New Project\" button.\n",
    "\n",
    "\n",
    "3. Choose the repository you want to deploy. Vercel supports GitHub, GitLab, and Bitbucket repositories. Select the repository and the branch you want to deploy.\n",
    "\n",
    "\n",
    "4. Select the project root folder (in this case, it is the `src` folder) and click \"Deploy\" to deploy the project.\n",
    "\n",
    "\n",
    "\n",
    "Vercel will build your project and deploy it to its cloud platform. Example site: https://jovian-careers-responsive.vercel.app"
   ]
  },
  {
   "cell_type": "markdown",
   "metadata": {},
   "source": [
    "### Development with GitHub Codespaces\n",
    "\n",
    "<img src=\"https://i.imgur.com/hjleBqj.png\" width=\"420\">\n",
    "\n",
    "We can now open up the repository in GitHub Codespaces and launch it within VS Code:\n",
    "\n",
    "\n",
    "1. Click the \"Code\" button on the repository page, and select \"Open with Codespaces\".\n",
    "\n",
    "\n",
    "2. Select the Codespace configuration that you want to use, or create a new one if necessary.\n",
    "\n",
    "\n",
    "3. Wait for the Codespace to be created, which may take a few minutes, if done for the first time.\n",
    "\n",
    "\n",
    "4. Once the Codespace is ready, click on the \"Open in Visual Studio Code\" button \n",
    "\n",
    "\n",
    "5. Install and use the [\"Live Server\" extension](https://marketplace.visualstudio.com/items?itemName=ritwickdey.LiveServer) to preview the site during development\n",
    "\n",
    "You can either work with the browser-based version of VS Code, or you can connect remotely to the codespace using your installation of VS Code.\n",
    "\n",
    "**NOTE**: GitHub provides 120 hours of free codespaces usage for personal accounts. Learn more about the [pricing here](https://docs.github.com/en/billing/managing-billing-for-github-codespaces/about-billing-for-github-codespaces). You may need to delete older codespaces machines to create new ones. You can manage your codespaces here: https://github.com/codespaces ."
   ]
  },
  {
   "cell_type": "markdown",
   "metadata": {},
   "source": [
    "## Responsive Web Design\n",
    "\n",
    "Responsive web design is an approach that ensures websites adapt gracefully to different screen sizes, devices, and orientations. It optimizes the user experience by making content visually appealing and easily accessible across a wide range of devices, from smartphones to desktops."
   ]
  },
  {
   "cell_type": "markdown",
   "metadata": {},
   "source": [
    "User interface designers often create design mockups in 3-4 sizes depending on the available screen width:\n",
    "\n",
    "1. Mobile (`xs`) : < 576px\n",
    "\n",
    "\n",
    "2. Tablet (`sm`): 576px - 768px\n",
    "\n",
    "\n",
    "3. Desktop (`md`): 768px - 992px\n",
    "\n",
    "\n",
    "4. (Optional) Large Desktop (`lg`) - > 992px\n",
    "\n",
    "\n",
    "\n",
    "![](https://i.imgur.com/xsb1KtB.png)\n",
    "\n",
    "\n",
    "The specific widths at which the design changes significantly is called a **breakpoint**. Your role as a web developer is to implement the layout changes at specific breakpoints while ensuring that the page adapts gracefully at all intermediate screen widths."
   ]
  },
  {
   "cell_type": "markdown",
   "metadata": {},
   "source": [
    "### Viewport Meta Tag\n",
    "\n",
    "To implement a responsive web design, you must include the following meta tag within the `head` tag of your web page: \n",
    "\n",
    "```html\n",
    "\n",
    "<meta name=\"viewport\" content=\"width=device-width, initial-scale=1\">\n",
    "\n",
    "```\n",
    "\n",
    "Without this tag, your website may not show up as desired on mobile devices. Learn more here: https://www.w3schools.com/css/css_rwd_viewport.asp"
   ]
  },
  {
   "cell_type": "markdown",
   "metadata": {},
   "source": [
    "> **EXERCISE**: Check out some good examples of responsive web design here: \n",
    "> \n",
    "> 1. https://www.invisionapp.com/inside-design/examples-responsive-web-design/ . \n",
    ">\n",
    ">\n",
    "> 2. https://designmodo.com/responsive-design-examples/#responsive-web-design-examples\n",
    "> \n",
    ">\n",
    "> Study the examples carefully and identify the changes between mobile, tablet, and desktop layouts."
   ]
  },
  {
   "cell_type": "markdown",
   "metadata": {},
   "source": [
    "### Simulating Devices\n",
    "\n",
    "You can inspect how a webiste looks on mobile using by simulating other devices within Google Chrome's Developer tools. \n",
    "\n",
    "<img src=\"https://i.imgur.com/EOpVXwL.png\" width=\"640\">\n",
    "\n",
    "Learn more about this here: https://developer.chrome.com/docs/devtools/device-mode/\n",
    "\n"
   ]
  },
  {
   "cell_type": "markdown",
   "metadata": {},
   "source": [
    "When it comes to responsive design, there are no right answers, only tradeoffs and best practices!\n",
    "\n",
    "> **EXERCISE**: Open up developer tools on your browser, turn on \"Device Mode\" and study how various pages on the following websites look at different device widths:\n",
    "> \n",
    "> 1. [Jovian](https://www.jovian.com)\n",
    "> 2. [Google](https://www.google.com)\n",
    "> 2. [Slack](https://slack.com)\n",
    "> 3. [Instagram](https://instagram.com)\n",
    "> 4. [Twitter](https://twitter.com)\n",
    "> 5. [New York Times](https://www.nytimes.com/)\n",
    "> 6. ... (add your favorite websites here)\n",
    ">\n",
    "> Studying how other websites achieve a responsive layout is a great way to learn. \n",
    "\n",
    "**NOTE**: Certain websites redirect to a completely different page depending on the device you're using. While this was a common practice earlier, it's not recommended any longer. Can you list some websites that follow this outdated pattern?"
   ]
  },
  {
   "cell_type": "markdown",
   "metadata": {},
   "source": [
    "### CSS Media Queries\n",
    "\n",
    "\n",
    "CSS media queries are a powerful tool that allows you to apply different styles to your web page based on device characteristics, such as screen size, resolution, and orientation. "
   ]
  },
  {
   "cell_type": "markdown",
   "metadata": {},
   "source": [
    "#### Media Query Syntax\n",
    "\n",
    "Here's a basic structure of a media query:\n",
    "\n",
    "```css\n",
    "@media media_type and (condition) {\n",
    "  /* CSS rules */\n",
    "}\n",
    "```"
   ]
  },
  {
   "cell_type": "markdown",
   "metadata": {},
   "source": [
    "Media queries consist of a media type and one or more expressions that determine the conditions under which the styles should be applied. The most common media type is `screen`, used for displaying content on screens like desktops, laptops, tablets, and smartphones. Other media types are `print` and `all`."
   ]
  },
  {
   "cell_type": "markdown",
   "metadata": {},
   "source": [
    "#### Media Query Example\n",
    "\n",
    "Here's an example that changes the background color of the body element when the screen width is at least 768 pixels:\n",
    "\n",
    "```css\n",
    "@media screen and (min-width: 768px) {\n",
    "  body {\n",
    "    background-color: lightblue;\n",
    "  }\n",
    "}\n",
    "```\n",
    "\n",
    "While width is the most common feature used in media queries, there are [several other features](https://developer.mozilla.org/en-US/docs/Web/CSS/@media#media_features) that can be used. Here's an example that uses the orientation of the device:\n",
    "\n",
    "```css\n",
    "@media screen and (orientation: landscape) {\n",
    "  body {\n",
    "    font-size: 1.2em;\n",
    "  }\n",
    "}\n",
    "```"
   ]
  },
  {
   "cell_type": "markdown",
   "metadata": {},
   "source": [
    "#### Combining Multiple Conditions\n",
    "\n",
    "You can combine multiple conditions in a single media query using \"and,\" \"not,\" or \"only\" keywords. \n",
    "\n",
    "\n",
    "```css\n",
    "@media screen and (min-width: 600px) and (max-width: 1024px) {\n",
    "  /* CSS rules */\n",
    "}\n",
    "```"
   ]
  },
  {
   "cell_type": "markdown",
   "metadata": {},
   "source": [
    "\n",
    "> **EXERCISE**: Learn more about media queries here: https://developer.mozilla.org/en-US/docs/Web/CSS/Media_Queries/Using_media_queries"
   ]
  },
  {
   "cell_type": "markdown",
   "metadata": {},
   "source": [
    "#### Setting Breakpoints\n",
    "\n",
    "As discussed earlier, breakpoints are the points at which your design changes to adapt to different screen sizes. They're generally based on common device screen widths. \n",
    "\n",
    "Media queries can be used to set breakpoints and apply different CSS rules for each layout:\n",
    "\n",
    "\n",
    "```css\n",
    "/* Extra small devices (mobile) */\n",
    "@media screen and (max-width: 576px) {\n",
    "  /* CSS rules */\n",
    "}\n",
    "\n",
    "/* Small devices (mobile/tablets) */\n",
    "@media screen and (min-width: 576px) and (max-width: 768px) {\n",
    "  /* CSS rules */\n",
    "}\n",
    "\n",
    "/* Medium devices (tablets/laptops) */\n",
    "@media screen and (min-width: 768px) and (max-width: 992px) {\n",
    "  /* CSS rules */\n",
    "}\n",
    "\n",
    "/* Large devices (laptops/desktops) */\n",
    "@media screen and (min-width: 992px) and (max-width: 1200px) {\n",
    "  /* CSS rules */\n",
    "}\n",
    "\n",
    "/* Extra large devices (large desktops) */\n",
    "@media screen and (min-width: 1200px) {\n",
    "  /* CSS rules */\n",
    "}\n",
    "```"
   ]
  },
  {
   "cell_type": "markdown",
   "metadata": {},
   "source": [
    "> **EXERCISE**: Try making some changes to the Jovian careers website based on the above breakpoints."
   ]
  },
  {
   "cell_type": "markdown",
   "metadata": {},
   "source": [
    "### Mobile First Design\n",
    "\n",
    "<img src=\"https://i.imgur.com/Rqz4B3C.png\" width=\"640\">"
   ]
  },
  {
   "cell_type": "markdown",
   "metadata": {},
   "source": [
    "In a mobile-first design approach, the base CSS styles are for mobile devices, and media queries are used to progressively enhance the design for larger screens:\n",
    "\n",
    "```css\n",
    "/* Base styles (extra small devices - mobile) */\n",
    "/* CSS rules */\n",
    "\n",
    "/* Small devices (tablets) */\n",
    "@media screen and (min-width: 576px) {\n",
    "  /* CSS rules */\n",
    "}\n",
    "\n",
    "/* Medium devices (tablets/laptops) */\n",
    "@media screen and (min-width: 768px) {\n",
    "  /* CSS rules */\n",
    "}\n",
    "\n",
    "/* Large devices (laptops/desktops) */\n",
    "@media screen and (min-width: 992px) {\n",
    "  /* CSS rules */\n",
    "}\n",
    "\n",
    "/* Extra large devices (large desktops) */\n",
    "@media screen and (min-width: 1200px) {\n",
    "  /* CSS rules */\n",
    "}\n",
    "```\n",
    "\n",
    "By removing the max-width condition for the first breakpoint and using only min-width queries for the rest, we ensure that the base styles apply to mobile devices and progressively enhance the design as the screen size increases."
   ]
  },
  {
   "cell_type": "markdown",
   "metadata": {},
   "source": [
    "> **EXERCISE**: Try making some changes to the Jovian careers website based on the above breakpoints. Observe how the mobile-first approach is different from the previous approach of a distinct styles between each set of breakpoints."
   ]
  },
  {
   "cell_type": "markdown",
   "metadata": {},
   "source": [
    "## CSS Flexbox Layout\n",
    "\n",
    "<img src=\"https://i.imgur.com/xkgapMo.png\" width=\"360\">"
   ]
  },
  {
   "cell_type": "markdown",
   "metadata": {},
   "source": [
    "The CSS Flexbox layout is a powerful and versatile method for arranging elements within a container in a flexible, adaptive manner. It simplifies complex layouts, making it easy to achieve responsive designs and accommodate varying content sizes.\n",
    "\n",
    "The flexbox layout can be applied to an HTML element by modifying the CSS `display` property. It was added to the CSS specification in 2010 and was implemented by most browsers in the early 2010s."
   ]
  },
  {
   "cell_type": "markdown",
   "metadata": {},
   "source": [
    "### CSS `display` Property"
   ]
  },
  {
   "cell_type": "markdown",
   "metadata": {},
   "source": [
    "The CSS display property determines how an element is displayed on the web page. It controls the layout and rendering of the element in various ways. Here are some commonly used display options:\n",
    "\n",
    "\n",
    "1. `display: block;` - The element creates a block-level box, taking up the full width available and generating a new line before and after itself.\n",
    "\n",
    "\n",
    "2. `display: inline;` - The element creates an inline-level box that doesn't break the flow of text and only takes up as much width as necessary.\n",
    "\n",
    "\n",
    "3. `display: inline-block;` - The element creates a block-level box that can be placed inline with other elements and respects width and height properties.\n",
    "\n",
    "\n",
    "4. `display: flex;` - The element becomes a flex container, allowing its children to be laid out as flexible boxes.\n",
    "\n",
    "\n",
    "5. `display: none;` - The element is removed from the rendering tree, making it invisible and not taking up any space in the layout.\n",
    "\n",
    "\n",
    "The `display` property supports several other options that you can learn about here: https://developer.mozilla.org/en-US/docs/Web/CSS/display\n"
   ]
  },
  {
   "cell_type": "markdown",
   "metadata": {},
   "source": [
    "> **EXERCISE**: Create a web page containing 4-5 divs inside a parent div. Add borders and backgrounds to all the divs and experiment with various values of the `display` property for the outer and inner divs. Follow along with this tutorial to learn and experiment further: https://www.youtube.com/watch?v=naTAFo2Gyus"
   ]
  },
  {
   "cell_type": "markdown",
   "metadata": {},
   "source": [
    "### Flex Container and Items\n",
    "\n",
    "<img src=\"https://i.imgur.com/FeSudoy.png\" width=\"420\" >\n",
    "\n",
    "The `display: flex` property when applied to container (or parent) element causes the items (or children) to be arranged using the CSS flexbox layout. The arrangement can be controlled using various container-level and child-level properties, as discussed in the following sections."
   ]
  },
  {
   "cell_type": "markdown",
   "metadata": {},
   "source": [
    "We can create a sample web page `flexbox.html` with the following content to experiment with the Flexbox layout:\n",
    "\n",
    "\n",
    "```html\n",
    "<!DOCTYPE html>\n",
    "<html>\n",
    "    <head>\n",
    "        <title>Flexbox Practice</title>\n",
    "        <style>\n",
    "            #container {\n",
    "                background-color:coral;\n",
    "                border: 1px solid black;\n",
    "                font-family: sans-serif;\n",
    "                padding: 10px;\n",
    "            }\n",
    "\n",
    "            .item {\n",
    "                border: 1px solid black;\n",
    "                padding: 10px;\n",
    "                background-color: cornflowerblue;\n",
    "            }\n",
    "        </style>\n",
    "    </head>\n",
    "    <body>\n",
    "        <div id=\"container\">\n",
    "            <div id=\"item-1\" class=\"item\">\n",
    "                Item 1\n",
    "            </div>\n",
    "            <div id=\"item-2\" class=\"item\">\n",
    "                Item 2\n",
    "            </div>\n",
    "            <div id=\"item-3\" class=\"item\">\n",
    "                Item 3\n",
    "            </div>\n",
    "            <div id=\"item-4\" class=\"item\">\n",
    "                Item 4\n",
    "            </div>\n",
    "        </div>\n",
    "    </body>\n",
    "</html>\n",
    "```"
   ]
  },
  {
   "cell_type": "markdown",
   "metadata": {},
   "source": [
    "### Flex Direction\n",
    "\n",
    "<img src=\"https://i.imgur.com/Oz5qtAe.png\" width=\"420\">"
   ]
  },
  {
   "cell_type": "markdown",
   "metadata": {},
   "source": [
    "The `flex-direction` property of a container sets the primary axis along which flex items are arranged within a flex container. It supports the following options:\n",
    "\n",
    "\n",
    "- `row`: Flex items are laid out horizontally, in the order they appear in the source code (default).\n",
    "\n",
    "\n",
    "- `row-reverse`: Flex items are laid out horizontally, in the reverse order of their appearance in the source code.\n",
    "\n",
    "\n",
    "- `column`: Flex items are laid out vertically, in the order they appear in the source code.\n",
    "\n",
    "\n",
    "- `column-reverse`: Flex items are laid out vertically, in the reverse order of their appearance in the source code.\n",
    "\n"
   ]
  },
  {
   "cell_type": "markdown",
   "metadata": {},
   "source": [
    "> **EXERCISE**: Experiment with the `flex-direction` property to control the layout direction of flex items within a flex container."
   ]
  },
  {
   "cell_type": "markdown",
   "metadata": {},
   "source": [
    "### Wrapping Items\n",
    "\n",
    "<img src=\"https://i.imgur.com/y4vJzWy.png\" width=\"420\">"
   ]
  },
  {
   "cell_type": "markdown",
   "metadata": {},
   "source": [
    "The `flex-wrap` property of a container controls whether flex items should wrap onto multiple lines or be forced onto a single line within a flex container.It supports the following options:\n",
    "\n",
    "- `nowrap`: Flex items are forced onto a single line, potentially causing overflow (default).\n",
    "\n",
    "\n",
    "- `wrap`: Flex items wrap onto multiple lines when the container width is not sufficient to accommodate them.\n",
    "\n",
    "\n",
    "- `wrap-reverse`: Flex items wrap onto multiple lines in the reverse order when the container width is not sufficient to accommodate them."
   ]
  },
  {
   "cell_type": "markdown",
   "metadata": {},
   "source": [
    "> **EXERCISE**: Experiment with the `flex-wrap` property to control the wrapping behavior of flex items within a flex container."
   ]
  },
  {
   "cell_type": "markdown",
   "metadata": {},
   "source": [
    "### Justification and Alignment\n",
    "\n",
    "In Flexbox, justification and alignment options determine how flex items are positioned within a container. These options provide control over the distribution of items along the main axis (justification) and the cross axis (alignment), enabling responsive and adaptive layouts.\n",
    "\n"
   ]
  },
  {
   "cell_type": "markdown",
   "metadata": {},
   "source": [
    "#### `justify-content`\n",
    "\n",
    "![](https://i.imgur.com/T4BQEpX.png)"
   ]
  },
  {
   "cell_type": "markdown",
   "metadata": {},
   "source": [
    "The `justify-content` property of a container aligns flex items along the main axis of a flex container, distributing extra space when available. It supports the following options:\n",
    "\n",
    "- `flex-start`: Flex items are aligned at the start of the main axis (default).\n",
    "\n",
    "\n",
    "- `flex-end`: Flex items are aligned at the end of the main axis.\n",
    "\n",
    "\n",
    "- `center`: Flex items are centered along the main axis.\n",
    "\n",
    "\n",
    "- `space-between`: Flex items are evenly distributed along the main axis, with the first item at the start and the last item at the end.\n",
    "\n",
    "\n",
    "- `space-around`: Flex items are evenly distributed along the main axis, with equal space around each item.\n",
    "\n",
    "\n",
    "- `space-evenly`: Flex items are evenly distributed along the main axis, with equal space between and around each item.\n",
    "\n"
   ]
  },
  {
   "cell_type": "markdown",
   "metadata": {},
   "source": [
    "> **EXERCISE**: Experiment with the `justify-content` property to control the alignment and distribution of flex items within a flex container along the main axis. Try it with `flex-direction` set to `row` and `column` for the parent container. "
   ]
  },
  {
   "cell_type": "markdown",
   "metadata": {},
   "source": [
    "#### `align-items`\n",
    "\n",
    "![](https://i.imgur.com/QGVYGiE.png)"
   ]
  },
  {
   "cell_type": "markdown",
   "metadata": {},
   "source": [
    "The `align-items` property aligns flex items along the cross axis of a flex container, determining their positioning perpendicular to the main axis. It supports the following options:\n",
    "\n",
    "\n",
    "- `stretch`: Flex items are stretched to fill the container along the cross axis (default).\n",
    "\n",
    "\n",
    "- `flex-start`: Flex items are aligned at the start of the cross axis.\n",
    "\n",
    "\n",
    "- `flex-end`: Flex items are aligned at the end of the cross axis.\n",
    "\n",
    "\n",
    "- `center`: Flex items are centered along the cross axis.\n",
    "\n",
    "\n",
    "- `baseline`: Flex items are aligned along their baseline, creating a uniform text baseline when items have text content.\n"
   ]
  },
  {
   "cell_type": "markdown",
   "metadata": {},
   "source": [
    "> **EXERCISE**: Experiment with the `align-items` property to control the alignment and positioning of flex items within a flex container along the cross axis."
   ]
  },
  {
   "cell_type": "markdown",
   "metadata": {},
   "source": [
    "#### `align-self`\n",
    "\n",
    "<img src=\"https://i.imgur.com/KR6eidc.png\" width=\"420\">"
   ]
  },
  {
   "cell_type": "markdown",
   "metadata": {},
   "source": [
    "The `align-self` property allows individual flex items to override the default alignment specified by the `align-items` property of their flex container along the cross axis. It supports the following options:\n",
    "\n",
    "\n",
    "- `auto`: Flex item inherits the alignment specified by the flex container's `align-items` property (default).\n",
    "\n",
    "\n",
    "- `stretch`: Flex item is stretched to fill the container along the cross axis.\n",
    "\n",
    "\n",
    "- `flex-start`: Flex item is aligned at the start of the cross axis.\n",
    "\n",
    "\n",
    "- `flex-end`: Flex item is aligned at the end of the cross axis.\n",
    "\n",
    "\n",
    "- `center`: Flex item is centered along the cross axis.\n",
    "\n",
    "\n",
    "- `baseline`: Flex item is aligned along its baseline, creating a uniform text baseline when items have text content."
   ]
  },
  {
   "cell_type": "markdown",
   "metadata": {},
   "source": [
    "> **EXERCISE**: Experiment with the `align-self` property to control the alignment and positioning of individual flex items within a flex container along the cross axis."
   ]
  },
  {
   "cell_type": "markdown",
   "metadata": {},
   "source": [
    "#### `align-content` and `justify-items`\n",
    "\n",
    "<img src=\"https://i.imgur.com/rS0tHuJ.png\" width=\"480\">\n",
    "\n",
    "> **EXERCISE**: Flexbox also contains additional properties `justify-items` and `align-content`. Look up some tutorials to understand how they differ from `justify-content` and `align-items` and experiment with the various options they provide to gain a better understanding of these properties."
   ]
  },
  {
   "cell_type": "markdown",
   "metadata": {},
   "source": [
    "### Item `flex-*` Properties\n",
    "\n",
    "The `flex-*` properties, namely `flex-grow`, `flex-shrink`, and `flex-basis`, define the flexibility and sizing of individual items within a flex container. These properties control how items grow, shrink, and determine their initial main size, enabling responsive and adaptive layouts."
   ]
  },
  {
   "cell_type": "markdown",
   "metadata": {},
   "source": [
    "#### `flex-grow`\n",
    "\n",
    "<img src=\"https://i.imgur.com/G9g8Fdu.png\" width=\"420\">"
   ]
  },
  {
   "cell_type": "markdown",
   "metadata": {},
   "source": [
    "The flex-grow property determines a flex item's ability to grow relative to other items within a flex container, allowing it to expand and take up the available space. It supports the following options:\n",
    "\n",
    "\n",
    "- `flex-grow: 0`: Disables the item's ability to grow (default).\n",
    "\n",
    "\n",
    "- `flex-grow: <positive-number>`: Sets the item's ability to grow based on the specified value, relative to other items in the container."
   ]
  },
  {
   "cell_type": "markdown",
   "metadata": {},
   "source": [
    "#### `flex-shrink`\n",
    "\n",
    "\n",
    "<img src=\"https://i.imgur.com/3y40BNe.png\" width=\"420\">"
   ]
  },
  {
   "cell_type": "markdown",
   "metadata": {},
   "source": [
    "The `flex-shrink` property determines a flex item's ability to shrink relative to other items within a flex container, allowing it to contract and fit within the available space. It supports the following options:\n",
    "\n",
    "\n",
    "- `flex-shrink: 1`: Enables the item's ability to shrink (default).\n",
    "\n",
    "\n",
    "- `flex-shrink: 0`: Disables the item's ability to shrink, maintaining its initial size.\n",
    "\n",
    "\n",
    "- `flex-shrink: <positive-number>`: Sets the item's ability to shrink based on the specified value, relative to other items in the container.\n",
    "\n",
    "\n"
   ]
  },
  {
   "cell_type": "markdown",
   "metadata": {},
   "source": [
    "#### `flex-basis`\n",
    "\n",
    "<img src=\"https://i.imgur.com/oWbwSAT.png\" width=\"420\">\n",
    "\n"
   ]
  },
  {
   "cell_type": "markdown",
   "metadata": {},
   "source": [
    "The flex-basis property specifies the initial main size of a flex item before any available space is distributed according to the flex-grow and flex-shrink properties. It supports the following properties:\n",
    "\n",
    "\n",
    "- `flex-basis: auto`: The initial main size is determined by the item's width or height property, or its content size if width/height is not set (default).\n",
    "\n",
    "\n",
    "- `flex-basis: <length>`: Sets a fixed initial main size using an absolute length value (e.g., px, em, rem).\n",
    "\n",
    "    \n",
    "- `flex-basis: <percentage>`: Sets a relative initial main size based on a percentage of the flex container's main size."
   ]
  },
  {
   "cell_type": "markdown",
   "metadata": {},
   "source": [
    "#### `flex` shorthand\n",
    "\n",
    "The `flex` property is a shorthand for setting the `flex-grow`, `flex-shrink`, and `flex-basis` properties, which together define the flexibility of a flex item within a flex container.\n",
    "\n",
    "<img src=\"https://i.imgur.com/mUnArao.png\" width=\"480\">"
   ]
  },
  {
   "cell_type": "markdown",
   "metadata": {},
   "source": [
    "> **EXERCISE**: Experiment with the various options for the `flex-grow`, `flex-shrink`, `flex-basis`, and `flex` properties to gain a better understanding of how they work. "
   ]
  },
  {
   "cell_type": "markdown",
   "metadata": {},
   "source": [
    "### Applications of Flexbox\n",
    "\n",
    "\n",
    "<a href=\"https://nytimes.com\" target=\"_blank\"><img src=\"https://i.imgur.com/rmyexIj.png\" width=\"480\"></a>\n",
    "\n",
    "\n",
    "Flexbox layout provides a powerful and efficient way to create responsive and adaptive designs. Some common use cases of the flexbox layout include:\n",
    "\n",
    "1. **Responsive layouts**: Flexbox simplifies the creation of responsive layouts, allowing items to reposition and resize according to the screen width.\n",
    "\n",
    "\n",
    "2. **Grid systems**: Flexbox can be used to create flexible grid systems that adapt to different screen sizes and dynamically adjust the number of columns.\n",
    "\n",
    "\n",
    "3. **Equal-height columns**: Flexbox makes it easy to create equal-height columns within a row, even when their content varies in length.\n",
    "\n",
    "\n",
    "4. **Vertical centering**: Flexbox provides an effortless solution for vertically centering elements within a container, a task that was challenging with traditional CSS layouts.\n",
    "\n",
    "\n",
    "5. **Reordering elements**: Flexbox allows you to reorder elements visually without changing their order in the HTML, enabling more flexible and adaptive designs.\n",
    "\n",
    "\n",
    "6. **Media object layouts**: Flexbox simplifies the creation of media object layouts, such as image-text pairings, where content needs to be aligned and adapt to various screen sizes.\n",
    "\n",
    "\n",
    "7. **Form layouts**: Flexbox can be used to create responsive form layouts, aligning form elements and adjusting their sizes according to screen dimensions.\n",
    "\n",
    "\n",
    "8. **Spacing and alignment**: Flexbox offers easy control over the spacing and alignment of elements within a container, allowing for precise positioning and distribution of items.\n",
    "\n",
    "\n",
    "These are just a few examples of how flexbox can be utilized to create modern, responsive, and adaptive web designs. We'll explore many of these use cases in future lessons.\n"
   ]
  },
  {
   "cell_type": "markdown",
   "metadata": {},
   "source": [
    "> **EXERCISE**: Check out these tutorials to learn more about CSS Flexbox and experiment with various properties:\n",
    "> \n",
    "> - Flexbox Tutorial Screencasts: https://www.youtube.com/watch?v=Vj7NZ6FiQvo&list=PLu8EoSxDXHP7xj_y6NIAhy0wuCd4uVdid\n",
    "> - 30 Days of Flexbox: https://www.samanthaming.com/flexbox30/\n",
    "> - Complete Guide to Flexbox: https://css-tricks.com/snippets/css/a-guide-to-flexbox/\n",
    "> - Flexbox Game: https://flexboxfroggy.com/\n",
    ">\n",
    "> It takes a while to get used to \"thinking in flexbox\", but once you do, you can build pretty much any layout you can imagine.\n"
   ]
  },
  {
   "cell_type": "markdown",
   "metadata": {},
   "source": [
    "## Jovian Careers Site Redesign\n",
    "\n",
    "We're now ready to redesign the Jovian careers site using media queries and flexbox layout. Here's how it currently looks:\n",
    "\n",
    "<img src=\"https://i.imgur.com/m7zbUeX.png\" width=\"320\">\n",
    "\n",
    "<img src=\"https://i.imgur.com/4eCoxVm.png\" width=\"480\">\n"
   ]
  },
  {
   "cell_type": "markdown",
   "metadata": {},
   "source": [
    " We'll follow these steps:\n",
    "\n",
    "\n",
    "\n",
    "1. Create a separate branch to make & test changes without affecting the main site\n",
    "\n",
    "\n",
    "2. Create separate wireframes for mobile and desktop screens\n",
    "\n",
    "\n",
    "3. Set up base styles and media queries for a mobile-first design\n",
    "\n",
    "\n",
    "4. Implement each section, first for mobile, and then for desktop\n",
    "\n",
    "\n",
    "5. Test each section at various widths & make required adjustments"
   ]
  },
  {
   "cell_type": "markdown",
   "metadata": {},
   "source": [
    "We'll use the following breakpoints in our design:\n",
    "\n",
    "\n",
    "1. Mobile (`xs`) : < 576px\n",
    "\n",
    "\n",
    "2. Tablet (`sm`): 576px - 768px\n",
    "\n",
    "\n",
    "3. Desktop (`md`): > 768px\n",
    "\n",
    "\n",
    "We won't create a separate set of wireframes for the tablet layout. We'll simply pick the mobile or desktop layout for each section, based on visual testing."
   ]
  },
  {
   "cell_type": "markdown",
   "metadata": {},
   "source": [
    "> **EXERCISE**: Before proceeding further, take a few minutes to think about how you design the mobile version of the Jovian careers site. Take inspiration from the examples shown earlier. Create a wireframe for the mobile version of the site using pen & paper or a digital whiteboard like [Excalidraw](https://excalidraw.com)."
   ]
  },
  {
   "cell_type": "markdown",
   "metadata": {},
   "source": [
    "### Wireframes\n",
    "\n"
   ]
  },
  {
   "cell_type": "markdown",
   "metadata": {},
   "source": [
    "We'll use the following wireframe as a reference for building the desktop version of the site (same as before):\n",
    "\n",
    "\n",
    "<img src=\"https://i.imgur.com/scW78vg.png\" width=\"360\">"
   ]
  },
  {
   "cell_type": "markdown",
   "metadata": {},
   "source": [
    "We'll use the following wireframes as reference for building the mobile version of the site: \n",
    "\n",
    "![](https://i.imgur.com/DXKRuM1.png)\n",
    "\n",
    "Note that the \"Job Opportunities\" section doesn't use a table layout on mobile. Instead, it uses a list of cards."
   ]
  },
  {
   "cell_type": "markdown",
   "metadata": {},
   "source": [
    "> **EXERCISE**: Try to replicate the above wireframes using [Excalidraw](https://excalidraw.com). Additionally, try to come up with a third set of wireframes for screens of intermediate size e.g. tablets."
   ]
  },
  {
   "cell_type": "markdown",
   "metadata": {},
   "source": [
    "### Basic Setup"
   ]
  },
  {
   "cell_type": "markdown",
   "metadata": {},
   "source": [
    "<img src=\"https://i.imgur.com/uNpvVxA.png\" width=\"480\">\n",
    "\n",
    "\n",
    "We'll can comment out all existing CSS and start with the following basic CSS setup for mobile-first design: \n",
    "\n",
    "\n",
    "```css\n",
    "/* Base styles (extra small devices - mobile) */\n",
    "/* CSS rules */\n",
    "\n",
    "/* Small devices (tablets) */\n",
    "@media screen and (min-width: 576px) {\n",
    "  /* CSS rules */\n",
    "}\n",
    "\n",
    "/* Medium devices (laptops) */\n",
    "@media screen and (min-width: 768px) {\n",
    "  /* CSS rules */\n",
    "}\n",
    "\n",
    "/* Large devices (desktops) */\n",
    "@media screen and (min-width: 992px) {\n",
    "  /* CSS rules */\n",
    "}\n",
    "\n",
    "/* Extra large devices (large desktops) */\n",
    "@media screen and (min-width: 1200px) {\n",
    "  /* CSS rules */\n",
    "}\n",
    "```\n"
   ]
  },
  {
   "cell_type": "markdown",
   "metadata": {},
   "source": [
    "The following styles can be added under base styles (without any media queries):\n",
    "\n",
    "\n",
    "```css\n",
    "html {\n",
    "  font-size: 14px;\n",
    "}\n",
    "\n",
    "body {\n",
    "  margin: 0;\n",
    "  padding: 0;\n",
    "  font-family: 'Roboto', sans-serif;\n",
    "  font-size: 1rem;\n",
    "  color: #444444;\n",
    "}\n",
    "\n",
    "h1, h2, h3, h4, h5, h6 {\n",
    "  font-family: 'Inter', sans-serif;\n",
    "  font-weight: 600;\n",
    "  color: #222222;\n",
    "}\n",
    "\n",
    "h1 { font-size: 2.5rem; text-align: center; }\n",
    "h2 { font-size: 2rem; text-align: center; }\n",
    "h3 { font-size: 1.75rem; }\n",
    "h4 { font-size: 1.5rem; }\n",
    "h5 { font-size: 1.25rem; }\n",
    "h6 { font-size: 1rem; }\n",
    "\n",
    "a {\n",
    "  text-decoration: none;\n",
    "  color: #3B82F6;\n",
    "}\n",
    "\n",
    "a:hover, a:focus {\n",
    "  color: #1D4ED8;\n",
    "}\n",
    "\n",
    "```\n",
    "\n",
    "Note that we've used a smaller base font size of 14px on mobile. Body text and headings will be scaled proportionally.\n",
    "\n",
    "We can increase the base font size for tablets and above by adding a property with the corresponding media query:\n",
    "\n",
    "\n",
    "```css\n",
    "/* Small devices (tablets) */\n",
    "@media screen and (min-width: 576px) {\n",
    "  html {\n",
    "    font-size: 16px;\n",
    "  }\n",
    "    \n",
    "  /** ...other styles **/\n",
    "  \n",
    "}\n",
    "```"
   ]
  },
  {
   "cell_type": "markdown",
   "metadata": {},
   "source": [
    "> **EXERCISE**: Try further increasing the base font size on extra large screens to 20px. Does it make the page look better?"
   ]
  },
  {
   "cell_type": "markdown",
   "metadata": {},
   "source": [
    "### Navbar \n",
    "\n",
    "Use this image for the logo icon used in the Navbar on mobile: https://i.imgur.com/JRA5Q8a.png\n",
    "\n",
    "\n",
    "The following changes need to be made to the Navbar: \n",
    "\n",
    "\n",
    "1. The base styles for the navbar can be copied over as-is\n",
    "\n",
    "\n",
    "2. On mobile, we need to show the logo without the text\n",
    "\n",
    "\n",
    "3. On tablets and desktop, we need to show the logo with the the text\n",
    "\n"
   ]
  },
  {
   "cell_type": "markdown",
   "metadata": {},
   "source": [
    "Here's the final HTML for the Navbar:\n",
    "\n",
    "```html\n",
    "\n",
    "<div id=\"navbar\">\n",
    "    <img id=\"logo\" alt=\"Jovian Logo\" src=\"https://i.imgur.com/JRA5Q8a.png\" height=\"30\" />\n",
    "    <img id=\"logo-with-text\" alt=\"Jovian Logo\" src=\"https://i.imgur.com/m1wXjqw.png\" height=\"30\" />\n",
    "</div>\n",
    "\n",
    "```\n",
    "\n",
    "Here's the CSS to control visiblity:\n",
    "\n",
    "```css\n",
    "\n",
    "/* .. other base styles */  \n",
    "\n",
    "#navbar {\n",
    "  padding: 8px;\n",
    "  margin: 0;\n",
    "}\n",
    "\n",
    "#logo-with-text {\n",
    "  display: none;\n",
    "}\n",
    "\n",
    "\n",
    "@media screen and (min-width: 576px) {\n",
    "  /* .. other styles */  \n",
    "    \n",
    "  #logo {\n",
    "    display: none;\n",
    "  }\n",
    "\n",
    "  #logo-with-text {\n",
    "    display: block;\n",
    "  }\n",
    "}\n",
    "\n",
    "```\n"
   ]
  },
  {
   "cell_type": "markdown",
   "metadata": {},
   "source": [
    "### Banner Image\n",
    "\n",
    "The height of the banner can be modified based on the screen size as follows:\n",
    "\n",
    "\n",
    "HTML: \n",
    "\n",
    "```html\n",
    "<img id=\"banner\" src=\"banner.jpg\" alt=\"Banner\">\n",
    "```\n",
    "\n",
    "CSS: \n",
    "\n",
    "```css\n",
    "#banner {\n",
    "  object-fit: cover;\n",
    "  width: 100%;\n",
    "  height: 120px;\n",
    "}\n",
    "\n",
    "@media screen and (min-width: 576px) {\n",
    "    #banner {\n",
    "    height: 200px;\n",
    "  } \n",
    "}\n",
    "\n",
    "\n",
    "@media screen and (min-width: 768px) {\n",
    "\n",
    "  #banner {\n",
    "    height: 280px;\n",
    "  }\n",
    "}\n",
    "\n",
    "\n",
    "```\n",
    "\n"
   ]
  },
  {
   "cell_type": "markdown",
   "metadata": {},
   "source": [
    "### About Section\n",
    "\n",
    "\n",
    "We can use the `flex-direction: column` for the about section on mobile & tablet and use `flex-direction: row` on desktop and larger screens."
   ]
  },
  {
   "cell_type": "markdown",
   "metadata": {},
   "source": [
    "Here's the final CSS:\n",
    "\n",
    "```css\n",
    "#about {\n",
    "  display: flex;\n",
    "  flex-direction: column;\n",
    "  max-width: 500px;\n",
    "  margin: 0 auto;\n",
    "  padding: 8px;\n",
    "}\n",
    "\n",
    "#team-image {\n",
    "  border-radius: 5px;\n",
    "  width: 100%;\n",
    "}\n",
    "\n",
    "\n",
    "@media screen and (min-width: 768px) {\n",
    "\n",
    "  #about {\n",
    "    flex-direction: row;\n",
    "    max-width: 800px;\n",
    "  }\n",
    "\n",
    "  #description {\n",
    "    width: 50%;\n",
    "    padding-right: 8px;\n",
    "    font-size: 1.25rem;\n",
    "  }\n",
    "  \n",
    "  #team {\n",
    "    width: 50%;\n",
    "  }\n",
    "  \n",
    "}\n",
    "\n",
    "```"
   ]
  },
  {
   "cell_type": "markdown",
   "metadata": {},
   "source": [
    "### Jobs List (Mobile & Tablet)\n",
    "\n",
    "Jobs can be shown as a list on mobile and tablet screens, and as a table on desktop screens. To achieve this, we'll need to create separate divs for each version. We'll hide the table on the mobile & tablet screens and we'll hide the list on laptop & bigger screens."
   ]
  },
  {
   "cell_type": "markdown",
   "metadata": {},
   "source": [
    "Here's the final code for the jobs list:\n",
    "\n",
    "\n",
    "HTML (add inside the `#jobs` div):\n",
    "\n",
    "```html\n",
    "\n",
    "<div id=\"jobs-list\">\n",
    "    <div class=\"job\">\n",
    "        <div class=\"job-title\">Frontend Developer</div>\n",
    "        <div class=\"job-detail\">Bengaluru, India</div>\n",
    "        <div class=\"job-detail\">₹ 12,00,000</div>\n",
    "        <div class=\"job-detail\">Posted Mar 3, 2023</div>\n",
    "    </div >\n",
    "    <div class=\"job\">\n",
    "        <div class=\"job-title\">Full Stack Developer</div>\n",
    "        <div class=\"job-detail\">New Delhi, India</div>\n",
    "        <div class=\"job-detail\">₹ 15,00,000</div>\n",
    "        <div class=\"job-detail\">Posted Feb 1, 2023</div>\n",
    "    </div>\n",
    "    <div class=\"job\">\n",
    "        <div class=\"job-title\">Data Scientist</div>\n",
    "        <div class=\"job-detail\">San Francisco, USA</div>\n",
    "        <div class=\"job-detail\">$175,000</div>\n",
    "        <div class=\"job-detail\">Posted Dec 22, 2022</div>\n",
    "    </div>\n",
    "    <div class=\"job\">\n",
    "        <div class=\"job-title\">ML Engineer</div>\n",
    "        <div class=\"job-detail\">Remote</div>\n",
    "        <div class=\"job-detail\">$80,000</div>\n",
    "        <div class=\"job-detail\">Posted Sep 19, 2022</div>\n",
    "    </div>\n",
    "</div>\n",
    "\n",
    "```\n",
    "\n",
    "CSS: \n",
    "\n",
    "```css\n",
    "\n",
    "#jobs {\n",
    "  max-width: 500px;\n",
    "  margin: 0 auto;\n",
    "  padding: 0 8px;\n",
    "}\n",
    "\n",
    ".job {\n",
    "  border: 1px solid #dddddd;\n",
    "  border-radius: 5px;\n",
    "  margin-bottom: 8px;\n",
    "  padding: 8px;\n",
    "}\n",
    "\n",
    ".job-title {\n",
    "  font-size: 1.25em;\n",
    "  color: #222222;\n",
    "  font-weight: 500;\n",
    "}\n",
    "\n",
    ".job-detail {\n",
    "  color: #777777;\n",
    "  margin-top: 2px;\n",
    "}\n",
    "\n",
    "/* Medium devices (laptops) */\n",
    "@media screen and (min-width: 768px) {\n",
    "\n",
    "  #jobs {\n",
    "    max-width: 800px;\n",
    "  }\n",
    "\n",
    "  #jobs-list {\n",
    "    display: none;\n",
    "  }\n",
    "}\n",
    "```\n",
    "\n",
    "\n"
   ]
  },
  {
   "cell_type": "markdown",
   "metadata": {},
   "source": [
    "### Jobs Table (Desktop)\n",
    "\n",
    "The jobs table on desktop can remain as is, the only change we'll make is to the display it only on laptop & bigger screens."
   ]
  },
  {
   "cell_type": "markdown",
   "metadata": {},
   "source": [
    "Here's the final code for the jobs table. \n",
    "\n",
    "HTML: No change\n",
    "\n",
    "\n",
    "CSS: \n",
    "\n",
    "```css\n",
    "#jobs-table {\n",
    "  display: none;\n",
    "}\n",
    "\n",
    "\n",
    "/* Medium devices (laptops) */\n",
    "@media screen and (min-width: 768px) {\n",
    "\n",
    "  #jobs-table {\n",
    "    display: table;\n",
    "    width: 100%;\n",
    "    border: 1px solid gray;\n",
    "    border-collapse: collapse;\n",
    "  }\n",
    "  \n",
    "  .jobs-header-row th {\n",
    "    border: 1px solid gray;\n",
    "    padding: 8px;\n",
    "    background-color: #BFDBFE;\n",
    "    text-align: center;\n",
    "    color: #222222;\n",
    "  }\n",
    "  \n",
    "  .jobs-data-row td {\n",
    "    border: 1px solid gray;\n",
    "    padding: 8px;\n",
    "  }\n",
    "  \n",
    "  #jobs-table tr:nth-child(odd) {\n",
    "    background-color: #EFF6FF;\n",
    "  }\n",
    "  \n",
    "}\n",
    "\n",
    "```"
   ]
  },
  {
   "cell_type": "markdown",
   "metadata": {},
   "source": [
    "### Application Form\n",
    "\n",
    "The only change required in the application form is to make the inputs full width on mobile an tablet screens, and keep them as they are on desktop."
   ]
  },
  {
   "cell_type": "markdown",
   "metadata": {},
   "source": [
    "HTML: No change\n",
    "\n",
    "CSS:\n",
    "\n",
    "```css\n",
    "\n",
    "#application {\n",
    "  max-width: 500px;\n",
    "  margin: 0 auto;\n",
    "  padding: 0 8px;\n",
    "}\n",
    "\n",
    ".form-group {\n",
    "  margin: 16px 0;\n",
    "}\n",
    "\n",
    "#application-form label {\n",
    "  font-weight: 600;\n",
    "}\n",
    "\n",
    ".form-group input, select, textarea {\n",
    "  padding: 8px;\n",
    "  width: 90%;\n",
    "  font-size: 1.25rem;\n",
    "  margin-top: 4px;\n",
    "  border-radius: 5px;\n",
    "  border: 1px solid gray;\n",
    "}\n",
    "\n",
    ".form-group textarea {\n",
    "  font-family: 'Roboto', sans-serif;\n",
    "}\n",
    "\n",
    ".form-group input[type=\"checkbox\"] {\n",
    "  width: 16px;\n",
    "  height: 16px;\n",
    "}\n",
    "\n",
    ".form-group input[type=\"submit\"] {\n",
    "  background-color: #3B82F6;\n",
    "  color: white;\n",
    "  font-weight: 500;\n",
    "  cursor: pointer;\n",
    "}\n",
    "\n",
    "/* Medium devices (laptops) */\n",
    "@media screen and (min-width: 768px) {\n",
    "\n",
    "\n",
    "  #application {\n",
    "    max-width: 800px;\n",
    "  }\n",
    "\n",
    "  .form-group input, select {\n",
    "    width: auto;\n",
    "  }\n",
    "\n",
    "  .form-group textarea {\n",
    "    width: 80%;\n",
    "  }\n",
    "  \n",
    "}\n",
    "```"
   ]
  },
  {
   "cell_type": "markdown",
   "metadata": {},
   "source": [
    "### Footer\n",
    "\n",
    "The only change in the footer is to avoid showing the list items inline on mobile screens."
   ]
  },
  {
   "cell_type": "markdown",
   "metadata": {},
   "source": [
    "CSS:\n",
    "\n",
    "```css\n",
    "\n",
    "#footer {\n",
    "  background-color: #E2E8F0;\n",
    "  padding: 8px;\n",
    "  margin-top: 32px;\n",
    "  text-align: center;\n",
    "}\n",
    "\n",
    "#footer-links {\n",
    "  list-style: none; \n",
    "  padding: 0; \n",
    "}\n",
    "\n",
    "#footer-links li {\n",
    "  margin: 8px 0;\n",
    "}\n",
    "\n",
    "\n",
    ".copyright {\n",
    "  color: #71717A;\n",
    "  font-size: 0.875rem;\n",
    "}\n",
    "\n",
    "/* Small devices (tablets) */\n",
    "@media screen and (min-width: 576px) {\n",
    "  #footer-links li {\n",
    "    display: inline;\n",
    "    margin: 0 16px;\n",
    "  }  \n",
    "}\n",
    "\n",
    "```\n"
   ]
  },
  {
   "cell_type": "markdown",
   "metadata": {},
   "source": []
  },
  {
   "cell_type": "markdown",
   "metadata": {},
   "source": [
    "### Review & Deployment\n",
    "\n",
    "We can now review and deploy the changes as follows:\n",
    "\n",
    "1. Stage and commit the changes in our feature branch\n",
    "2. Push the changes to GitHub and review the code\n",
    "3. Test the preview deployment created by Vercel\n",
    "4. Some final style adjustments can be made as required\n",
    "5. The pull request can be merged to update the main site\n",
    "\n",
    "With this, we've made our site responsive.\n"
   ]
  },
  {
   "cell_type": "markdown",
   "metadata": {},
   "source": [
    "Here's the final mobile layout:\n",
    "\n",
    "<img src=\"https://i.imgur.com/wXXt3rd.png\" width=\"320\">"
   ]
  },
  {
   "cell_type": "markdown",
   "metadata": {},
   "source": [
    "Here's the final tablet layout: \n",
    "\n",
    "\n",
    "<img src=\"https://i.imgur.com/xbSKDJE.png\" width=\"420\">"
   ]
  },
  {
   "cell_type": "markdown",
   "metadata": {},
   "source": [
    "Here's the final desktop layout: \n",
    "\n",
    "<img src=\"https://i.imgur.com/p3PSGRi.png\" width=\"500\">"
   ]
  },
  {
   "cell_type": "markdown",
   "metadata": {},
   "source": [
    "> **EXERCISES**: Complete the following exercises to improve your responsive web design skills:\n",
    ">\n",
    "> 1. Add some more sections to the site and try to implement them using a mobile-first responsive design.\n",
    ">\n",
    ">\n",
    "> 2. Create a separate wireframe for tablet screens and make changes to the page to implement it\n",
    ">\n",
    ">\n",
    "> 3. Try to print the page or export it as a PDF file. Use the `media print` query to update the layout of the page so it looks better when printed or exported as PDF.\n",
    "> "
   ]
  },
  {
   "cell_type": "markdown",
   "metadata": {},
   "source": [
    "## Summary and References"
   ]
  },
  {
   "cell_type": "markdown",
   "metadata": {},
   "source": [
    "The following topics were covered in this tutorial:\n",
    "\n",
    "\n",
    "- Using CSS media queries and breakpoints to implement mobile-first responsive web design\n",
    "\n",
    "\n",
    "- Leveraging the various properties offered by CSS flexbox to build fluid and dynamic layouts\n",
    "\n",
    "\n",
    "- Creating separate wireframes to determine the layout of a web page at various breakpoints\n",
    "\n",
    "\n",
    "- Implementing, testing, and deploying a responsive website using CSS media queries and flexbox\n",
    "\n",
    "\n",
    "The best way to learn these skills is to follow along step-by-step and type out all the code yourself. "
   ]
  },
  {
   "cell_type": "markdown",
   "metadata": {},
   "source": [
    "The code for this tutorial can be found here:\n",
    "\n",
    "\n",
    "- Completed code: https://github.com/sydney-jovian/jovian-careers-responsive\n",
    "\n",
    "\n",
    "- Finished site: https://jovian-careers-responsive.vercel.app/\n"
   ]
  },
  {
   "cell_type": "markdown",
   "metadata": {},
   "source": [
    "Check out these resources to learn more:\n",
    "\n",
    "\n",
    "1. [A Complete Guide to CSS Media Queries by CSS-Tricks](https://css-tricks.com/a-complete-guide-to-css-media-queries/) \n",
    "\n",
    "\n",
    "2. [Responsive Web Design Tutorial on MDN](https://developer.mozilla.org/en-US/docs/Learn/CSS/CSS_layout/Responsive_Design)\n",
    "\n",
    "\n",
    "3. [A Complete Guide to Flexbox by CSS-Tricks](https://css-tricks.com/snippets/css/a-guide-to-flexbox/)\n",
    "\n",
    "\n",
    "4. [Video Course - Wes Bos - What The Flexbox?!](https://www.youtube.com/watch?v=Vj7NZ6FiQvo&list=PLu8EoSxDXHP7xj_y6NIAhy0wuCd4uVdid): \n",
    "\n",
    "\n",
    "5. [Flexbox Froggy](https://flexboxfroggy.com/)\n",
    "\n",
    "\n",
    "6. [MDN Web Docs - Flexbox](https://developer.mozilla.org/en-US/docs/Web/CSS/CSS_Flexible_Box_Layout/Basic_Concepts_of_Flexbox)\n",
    "\n",
    "\n",
    "7. [Game - Flexbox Zombies](https://mastery.games/p/flexbox-zombies)\n",
    "\n",
    "\n",
    "8. [Scrimba - Learn Flexbox for free](https://scrimba.com/learn/flexbox)\n",
    "\n",
    "\n",
    "7. [Use Cases - Solved by Flexbox](https://philipwalton.github.io/solved-by-flexbox/)\n",
    "\n",
    "\n",
    "8. [Practice Playground - Flexplorer](https://bennettfeely.com/flexplorer/)"
   ]
  }
 ],
 "metadata": {
  "language_info": {
   "codemirror_mode": {
    "name": "ipython",
    "version": 3
   },
   "file_extension": ".py",
   "mimetype": "text/x-python",
   "name": "python",
   "nbconvert_exporter": "python",
   "pygments_lexer": "ipython3",
   "version": "3.9.7"
  }
 },
 "nbformat": 4,
 "nbformat_minor": 2
}