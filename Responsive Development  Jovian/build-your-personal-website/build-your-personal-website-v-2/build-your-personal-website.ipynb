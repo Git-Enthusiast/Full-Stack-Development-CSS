{
 "cells": [
  {
   "cell_type": "markdown",
   "metadata": {},
   "source": [
    "# Build Your Personal Website\n",
    "\n",
    "Your objective is to build a personal website using the tools & techniques covered in this course. \n",
    "\n",
    "Guidelines:\n",
    "\n",
    "- Check out the [Figma community](https://www.figma.com/community/search?resource_type=mixed&sort_by=relevancy&query=personal+website&editor_type=all&price=all&creators=all) or [Dribble](https://dribbble.com/search/personal-website) to find a good design you can implement\n",
    "- The website should contain at least two pages (e.g. \"Home\" & \"Contact\")\n",
    "- The home page should have at least 4 sections (e.g. Hero, About, Projects/Career, Footer)\n",
    "- The website should contain at least one form (e.g. on the contact page)\n",
    "- Start by first creating a wireframe using [Excalidraw](https://excalidraw.com) and then implement the page\n",
    "- The website must be responsive and easily viewable on mobile, tablet, and desktop \n",
    "- You can use the Bootstrap or any other CSS framework to build the website\n",
    "- Use https://formbold.com or set up a Express server to collect form responses\n",
    "- Use consistent & aesthetically pleasing colors, fonts, and design elements\n",
    "- You need not replicate a design exactly, just try to make your site look good\n",
    "- The website should be deployed to Vercel & you can optionally connect a custom domain\n",
    "- All the information on the website should be true & accurate (so you can link it from your Resume)\n",
    "\n",
    "\n",
    "Examples (for inspiration):\n",
    "\n",
    "1. https://www.figma.com/community/file/1146302275106168664\n",
    "2. https://www.figma.com/community/file/1086024030383521478\n",
    "3. https://www.figma.com/community/file/1046281425042561033\n",
    "4. https://www.figma.com/community/file/1086879117113975685/Personal-Portofolio-Website\n",
    "5. https://www.figma.com/community/file/1147177840151301665\n",
    "6. https://www.figma.com/community/file/1013537793691755947\n",
    "7. https://www.figma.com/community/file/1172625725078742295\n",
    "8. https://www.figma.com/community/file/1046729672969016441/Personal-Portfolio-Website\n",
    "9. https://www.figma.com/community/file/1046774896977796231\n",
    "10. https://www.figma.com/community/file/1046281425042561033\n",
    "11. https://www.figma.com/community/file/1031607501677385411\n",
    "12. https://www.figma.com/community/file/1144519064091466465\n",
    "13. https://www.ashishkankal.com/\n",
    "14. https://aakanksha-ns.github.io/\n",
    "15. https://karpathy.ai/\n",
    "16. https://www.youtube.com/results?search_query=personal+website+html+css\n",
    "\n",
    "\n",
    "\n",
    "\n",
    "**TIP**: You can go beyond the scope of work described above, but make sure to first implement everything mentioned above, make a submission, and only then continue building on top of it."
   ]
  },
  {
   "cell_type": "code",
   "execution_count": null,
   "metadata": {},
   "outputs": [],
   "source": [
    "print('Hello World')"
   ]
  }
 ],
 "metadata": {
  "language_info": {
   "codemirror_mode": {
    "name": "ipython",
    "version": 3
   },
   "file_extension": ".py",
   "mimetype": "text/x-python",
   "name": "python",
   "nbconvert_exporter": "python",
   "pygments_lexer": "ipython3",
   "version": "3.7.6"
  }
 },
 "nbformat": 4,
 "nbformat_minor": 2
}