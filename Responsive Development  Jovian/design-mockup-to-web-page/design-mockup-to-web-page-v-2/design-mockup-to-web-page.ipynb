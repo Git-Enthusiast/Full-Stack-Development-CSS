{
 "cells": [
  {
   "cell_type": "markdown",
   "metadata": {},
   "source": [
    "# Design Mockup to Web Page\n",
    "\n",
    "As a professional web developer, you will often be given a detailed design mockup created by UI/UX designers for building web pages. In this assignment, your goal is to turn the following design mockup into a web page: https://www.figma.com/file/HhvdvhNdE5S96HGwVqgAM8/Personal-Website-Design-(Community)?node-id=1-2\n",
    "\n",
    "### Step 1: Inspect the design mockup using Figma\n",
    "\n",
    "- Open the [above link](https://www.figma.com/file/HhvdvhNdE5S96HGwVqgAM8/Personal-Website-Design-(Community)?node-id=1-2) and create an account or sign in to view the page in Figma\n",
    "- Inspect the dimensions and styles of various components by [following this guide](https://www.figma.com/best-practices/tips-on-developer-handoff/an-overview-of-figma-for-developers/)\n",
    "- Identify the fonts used on the page and find them on [Google fonts](https://fonts.google.com/) for later use\n",
    "- Export the images on the page as PNG or JPEG files for use within your web page\n",
    "\n",
    "### Step 2: Set up basic page structure and styles\n",
    "\n",
    "- Create a folder on your desktop, and open it up in VS Code\n",
    "- Create an index.html file, aa styles.css file, and copy over images\n",
    "- Add basic HTML tags (`head`, `title`, `link`, `body`, section-wise `div`s etc.) \n",
    "- Set up basic styles (header & body font family, text size, background, etc.)\n",
    "\n",
    "\n",
    "### Step 3: Implement the web page section by section\n",
    "\n",
    "- Add the content for each section one by one using HTML\n",
    "- Use Figma's \"Inspect\" tab to check values of CSS properties\n",
    "- Add styles for each completed section one by one using CSS\n",
    "- Try to replicate the mockup as closely & precisely as possible\n",
    "\n",
    "\n",
    "### Step 4: Deploy your web page to the cloud and submit below\n",
    "\n",
    "- Create a ZIP file by compressing your project folder\n",
    "- Visit https://static.app and upload the ZIP file\n",
    "- Create a new account and verify your email to deploy \n",
    "- Verify that the site is deployed and submit the link below\n",
    "\n",
    "**NOTES**\n",
    "\n",
    "- Avoid copy-pasting styles directly from Figma. See https://jovian.com/learn/web-development-with-html-and-css/knowledge/dont-copy-paste-styles-from-figma-500\n",
    "\n",
    "- Avoid common mistakes by reviewing our feedback on previous submissions here: https://drive.google.com/drive/u/0/folders/1PT_Jmb4SuF_IkOACHURujFh5sDF_mr6-\n",
    "\n",
    "- If you have previously deployed a website using [https://static.app](https://static.app), you will need to delete your previous site or create a new account to deploy the assignment website for free.\n",
    "\n",
    "- (Optional) Once you're done building the web page, try implementing [this extended design mockup](https://www.figma.com/file/8WCRpukK1E9lGMhDNQyA5g/Personal-Website-Design-(Community)?node-id=0%3A1&t=ZCbQdvfGj43Tfvxx-1) which contains two more sections and several background elements."
   ]
  },
  {
   "cell_type": "code",
   "execution_count": null,
   "metadata": {},
   "outputs": [],
   "source": [
    "print('Hello World')"
   ]
  }
 ],
 "metadata": {
  "language_info": {
   "codemirror_mode": {
    "name": "ipython",
    "version": 3
   },
   "file_extension": ".py",
   "mimetype": "text/x-python",
   "name": "python",
   "nbconvert_exporter": "python",
   "pygments_lexer": "ipython3",
   "version": "3.7.6"
  }
 },
 "nbformat": 4,
 "nbformat_minor": 2
}